{
  "cells": [
    {
      "cell_type": "markdown",
      "metadata": {
        "id": "view-in-github",
        "colab_type": "text"
      },
      "source": [
        "<a href=\"https://colab.research.google.com/github/vpttra/Survival-Analysis-for-Better-Scooter-Company/blob/main/Survival_Analysis_for_Better_Scooter_Company_.ipynb\" target=\"_parent\"><img src=\"https://colab.research.google.com/assets/colab-badge.svg\" alt=\"Open In Colab\"/></a>"
      ]
    },
    {
      "cell_type": "markdown",
      "source": [
        "# **Case overview**"
      ],
      "metadata": {
        "id": "rwBb9YRV8oIQ"
      }
    },
    {
      "cell_type": "markdown",
      "source": [
        "The analysis is created with the aim to serve Better Scooter Company in optimizing their business processes and\n",
        "maximizing their profits. The overview of business problem and key objectives of analysis are stated below.\n",
        "\n",
        "**Business problem**\n",
        "\n",
        "Since the electric scooter market is growing quickly under the high sustainability and mobility demands, the\n",
        "competition in this business is tougher than ever. To survive in this economy climate, Better Cooter Company, as a\n",
        "new business, must embrace all the possibilities of optimizing costs and maximizing profits.\n",
        "\n",
        "One of the biggest operating costs is the repair cost for broken scooters. Meanwhile, there is a strong relationship\n",
        "between repair cost and scooters survival rate. If we have the information about the factors contributing to the\n",
        "scooter survival times, we can find a way to influence the survival time/rate. Moreover, by closely predicting the\n",
        "time that the scooters are broken, we can prepare our repair schedule and plan accordingly, to minimize the costs.\n",
        "\n",
        "**About our Data**\n",
        "\n",
        "Checking our historical dataset, we see that the scooters were purchased from 3 manufacturers, A, B and C and at\n",
        "different prices. Also, we have information on the average number of complaints in the last three months and the\n",
        "miles travelled of each scooter, extracted from the scooter’s accident report. From this dataset, we can analyze\n",
        "and draw some insights about the scooters, and more importantly, build a prediction model to predict the future\n",
        "broken time of the scooters in our inventory.\n",
        "\n",
        "**The aim of survival analysis**\n",
        "\n",
        "Our main interest is to establish a connection between covariates (the features of the scooter) and the results (the\n",
        "chance that the scooter is broken and the time it happens).\n",
        "\n",
        "Firstly, we study whether there are subgroups that have different survival rate, meaning that whether we can detect\n",
        "what factors are affecting the survival rate of our scooters and how we can control it. Secondly, we aim to predict\n",
        "the survival times for our scooters in inventory. With this information, we can, for example, plan our maintenance\n",
        "schemes and mechanics schedules to optimize the repair costs and thus maximize our profit."
      ],
      "metadata": {
        "id": "7NFTLAzp8JIG"
      }
    },
    {
      "cell_type": "markdown",
      "source": [
        "# **Discussion of Survival analysis methods**\n",
        "\n",
        "Ultimately, there are 3 major goals in survival analysis:\n",
        "Firstly, we aim to estimate the survivor and hazard functions. For this, we use Kaplan-Meier\n",
        "estimator to measure the time-to-failure (failure means being broken) of the scooters.\n",
        "\n",
        "Secondly, we want to compare survivor and/or hazard functions. Visually, we can compare the\n",
        "estimated survival curves for the sub-groups and make intuitive interpretations. However, the visual\n",
        "comparison is highly subjective. Thus, we also use Log Rank statistic test to draw conclusion.\n",
        "\n",
        "Finally, we conduct Cox Proportional Hazard and Random Survival Forest analysis to assess the\n",
        "relationship of other variables with the survival and hazard function. Additionally, we use the past\n",
        "data to build prediction models, test and compare the models and use one of them to predict survival\n",
        "rate of our scooters in inventory. "
      ],
      "metadata": {
        "id": "a8NyxzOc9nTA"
      }
    },
    {
      "cell_type": "markdown",
      "source": [
        "## **Data exploratory analysis**\n",
        "\n"
      ],
      "metadata": {
        "id": "N_itvQES7fiz"
      }
    },
    {
      "cell_type": "markdown",
      "source": [
        "Firstly, some exploratory data analysis was implemented to get a better understanding of the historical\n",
        "dataset. On the first glance, the dataset has 6 columns (id, tte, need_repair, usage_lenghts_days,\n",
        "manufactor, avg_complains, and ride-miles) and 283 rows. The data is cleaned and does not have any\n",
        "null value.\n",
        "\n",
        "In the total of 283 scooters, 143 scooters were broken (need_repair = True) and the other 140 scooters\n",
        "are still working at the end of the investigation period. This means that slightly more than 50% of the\n",
        "scooters were broken during the investigation period.\n",
        "From correlation table, there seems to be some correlation between the ‘avg_complains’ and\n",
        "‘need_repair’. Investigating further by a bar chart of distributions of ‘avg_complains’ by ‘need_repair’\n",
        "(Figure 1), we see that the scooters receiving more than 5 complaints in the last 3 months have higher\n",
        "chance of being broken.\n",
        "\n",
        "From the relative distribution of need_repair by manufactor plot (figure2), we can see that the scooters\n",
        "from manufactor A are less likely to be broken (around 30%) compared to the scooters from manufactor B\n",
        "and C, with 59,4% and 87,5% chances that their scooters were broken during the study respectively. \n"
      ],
      "metadata": {
        "id": "AXr5PV127mqg"
      }
    },
    {
      "cell_type": "code",
      "execution_count": null,
      "metadata": {
        "colab": {
          "base_uri": "https://localhost:8080/"
        },
        "id": "X0RJBMhKBOQb",
        "outputId": "fe037feb-470e-4466-f119-c5e516936d08"
      },
      "outputs": [
        {
          "output_type": "stream",
          "name": "stdout",
          "text": [
            "Looking in indexes: https://pypi.org/simple, https://us-python.pkg.dev/colab-wheels/public/simple/\n",
            "Collecting scikit-survival\n",
            "  Downloading scikit_survival-0.17.2-cp37-cp37m-manylinux_2_17_x86_64.manylinux2014_x86_64.whl (3.1 MB)\n",
            "\u001b[K     |████████████████████████████████| 3.1 MB 5.3 MB/s \n",
            "\u001b[?25hRequirement already satisfied: scikit-learn<1.1,>=1.0.0 in /usr/local/lib/python3.7/dist-packages (from scikit-survival) (1.0.2)\n",
            "Requirement already satisfied: numpy in /usr/local/lib/python3.7/dist-packages (from scikit-survival) (1.21.6)\n",
            "Requirement already satisfied: scipy!=1.3.0,>=1.0 in /usr/local/lib/python3.7/dist-packages (from scikit-survival) (1.7.3)\n",
            "Requirement already satisfied: ecos in /usr/local/lib/python3.7/dist-packages (from scikit-survival) (2.0.10)\n",
            "Requirement already satisfied: osqp!=0.6.0,!=0.6.1 in /usr/local/lib/python3.7/dist-packages (from scikit-survival) (0.6.2.post0)\n",
            "Requirement already satisfied: joblib in /usr/local/lib/python3.7/dist-packages (from scikit-survival) (1.2.0)\n",
            "Requirement already satisfied: pandas>=0.25 in /usr/local/lib/python3.7/dist-packages (from scikit-survival) (1.3.5)\n",
            "Requirement already satisfied: numexpr in /usr/local/lib/python3.7/dist-packages (from scikit-survival) (2.8.4)\n",
            "Requirement already satisfied: qdldl in /usr/local/lib/python3.7/dist-packages (from osqp!=0.6.0,!=0.6.1->scikit-survival) (0.1.5.post2)\n",
            "Requirement already satisfied: python-dateutil>=2.7.3 in /usr/local/lib/python3.7/dist-packages (from pandas>=0.25->scikit-survival) (2.8.2)\n",
            "Requirement already satisfied: pytz>=2017.3 in /usr/local/lib/python3.7/dist-packages (from pandas>=0.25->scikit-survival) (2022.6)\n",
            "Requirement already satisfied: six>=1.5 in /usr/local/lib/python3.7/dist-packages (from python-dateutil>=2.7.3->pandas>=0.25->scikit-survival) (1.15.0)\n",
            "Requirement already satisfied: threadpoolctl>=2.0.0 in /usr/local/lib/python3.7/dist-packages (from scikit-learn<1.1,>=1.0.0->scikit-survival) (3.1.0)\n",
            "Installing collected packages: scikit-survival\n",
            "Successfully installed scikit-survival-0.17.2\n"
          ]
        }
      ],
      "source": [
        "#Installing packages\n",
        "!pip install scikit-survival"
      ]
    },
    {
      "cell_type": "code",
      "execution_count": null,
      "metadata": {
        "id": "rdrxhjBWBVym"
      },
      "outputs": [],
      "source": [
        "# import scikit-survival\n",
        "import sksurv"
      ]
    },
    {
      "cell_type": "code",
      "execution_count": null,
      "metadata": {
        "id": "w0hVydBEXzaB"
      },
      "outputs": [],
      "source": [
        "import numpy as np\n",
        "import pandas as pd\n",
        "import random\n",
        "from sklearn.model_selection import train_test_split\n",
        "import matplotlib.pyplot as plt\n",
        "%matplotlib inline\n"
      ]
    },
    {
      "cell_type": "code",
      "execution_count": null,
      "metadata": {
        "id": "QC6fJd9vDV01",
        "colab": {
          "base_uri": "https://localhost:8080/",
          "height": 740
        },
        "outputId": "72c21030-0c37-4cae-b928-6c05987d2b30"
      },
      "outputs": [
        {
          "output_type": "execute_result",
          "data": {
            "text/plain": [
              "    id    tte  need_repair  usage_length_days manufactor  avg_complains  \\\n",
              "0    1   57.0         True          58.766838          C           21.3   \n",
              "1    2  736.0        False          56.447815          C            4.6   \n",
              "2    3  145.0         True          70.074472          B            1.8   \n",
              "3    4  275.0         True          54.742087          C            5.3   \n",
              "4    6  357.0         True          66.260541          A            0.7   \n",
              "5    7  357.0        False          55.536086          A            1.4   \n",
              "6    8  352.0         True          53.058263          B            5.4   \n",
              "7    9  342.0         True          42.509035          C           14.8   \n",
              "8   10    8.0         True          70.561822          C           12.6   \n",
              "9   11  536.0         True          53.715365          C            9.6   \n",
              "10  12   44.0         True          59.139196          B           10.0   \n",
              "11  13  605.0        False          45.690505          A            1.2   \n",
              "12  14  174.0         True          56.223305          B            0.9   \n",
              "13  15  511.0         True          64.647903          C           11.4   \n",
              "14  16  619.0        False          40.444639          A            0.9   \n",
              "15  17  110.0         True          52.184865          C           13.6   \n",
              "16  18   19.0         True          53.931661          C           11.4   \n",
              "17  19  698.0        False          49.561932          A            0.8   \n",
              "18  20  194.0         True          59.955098          A           32.0   \n",
              "19  21  521.0         True          64.190669          C            7.8   \n",
              "\n",
              "    ride_miles  \n",
              "0          6.2  \n",
              "1         88.0  \n",
              "2         88.4  \n",
              "3        131.8  \n",
              "4         60.0  \n",
              "5         54.0  \n",
              "6        120.9  \n",
              "7        221.7  \n",
              "8        147.3  \n",
              "9        121.0  \n",
              "10       114.7  \n",
              "11        72.0  \n",
              "12        71.0  \n",
              "13       114.0  \n",
              "14       120.0  \n",
              "15       141.0  \n",
              "16       280.6  \n",
              "17        59.0  \n",
              "18       156.6  \n",
              "19        73.0  "
            ],
            "text/html": [
              "\n",
              "  <div id=\"df-355f40f0-74d1-4bfd-bb72-5c148dcb6740\">\n",
              "    <div class=\"colab-df-container\">\n",
              "      <div>\n",
              "<style scoped>\n",
              "    .dataframe tbody tr th:only-of-type {\n",
              "        vertical-align: middle;\n",
              "    }\n",
              "\n",
              "    .dataframe tbody tr th {\n",
              "        vertical-align: top;\n",
              "    }\n",
              "\n",
              "    .dataframe thead th {\n",
              "        text-align: right;\n",
              "    }\n",
              "</style>\n",
              "<table border=\"1\" class=\"dataframe\">\n",
              "  <thead>\n",
              "    <tr style=\"text-align: right;\">\n",
              "      <th></th>\n",
              "      <th>id</th>\n",
              "      <th>tte</th>\n",
              "      <th>need_repair</th>\n",
              "      <th>usage_length_days</th>\n",
              "      <th>manufactor</th>\n",
              "      <th>avg_complains</th>\n",
              "      <th>ride_miles</th>\n",
              "    </tr>\n",
              "  </thead>\n",
              "  <tbody>\n",
              "    <tr>\n",
              "      <th>0</th>\n",
              "      <td>1</td>\n",
              "      <td>57.0</td>\n",
              "      <td>True</td>\n",
              "      <td>58.766838</td>\n",
              "      <td>C</td>\n",
              "      <td>21.3</td>\n",
              "      <td>6.2</td>\n",
              "    </tr>\n",
              "    <tr>\n",
              "      <th>1</th>\n",
              "      <td>2</td>\n",
              "      <td>736.0</td>\n",
              "      <td>False</td>\n",
              "      <td>56.447815</td>\n",
              "      <td>C</td>\n",
              "      <td>4.6</td>\n",
              "      <td>88.0</td>\n",
              "    </tr>\n",
              "    <tr>\n",
              "      <th>2</th>\n",
              "      <td>3</td>\n",
              "      <td>145.0</td>\n",
              "      <td>True</td>\n",
              "      <td>70.074472</td>\n",
              "      <td>B</td>\n",
              "      <td>1.8</td>\n",
              "      <td>88.4</td>\n",
              "    </tr>\n",
              "    <tr>\n",
              "      <th>3</th>\n",
              "      <td>4</td>\n",
              "      <td>275.0</td>\n",
              "      <td>True</td>\n",
              "      <td>54.742087</td>\n",
              "      <td>C</td>\n",
              "      <td>5.3</td>\n",
              "      <td>131.8</td>\n",
              "    </tr>\n",
              "    <tr>\n",
              "      <th>4</th>\n",
              "      <td>6</td>\n",
              "      <td>357.0</td>\n",
              "      <td>True</td>\n",
              "      <td>66.260541</td>\n",
              "      <td>A</td>\n",
              "      <td>0.7</td>\n",
              "      <td>60.0</td>\n",
              "    </tr>\n",
              "    <tr>\n",
              "      <th>5</th>\n",
              "      <td>7</td>\n",
              "      <td>357.0</td>\n",
              "      <td>False</td>\n",
              "      <td>55.536086</td>\n",
              "      <td>A</td>\n",
              "      <td>1.4</td>\n",
              "      <td>54.0</td>\n",
              "    </tr>\n",
              "    <tr>\n",
              "      <th>6</th>\n",
              "      <td>8</td>\n",
              "      <td>352.0</td>\n",
              "      <td>True</td>\n",
              "      <td>53.058263</td>\n",
              "      <td>B</td>\n",
              "      <td>5.4</td>\n",
              "      <td>120.9</td>\n",
              "    </tr>\n",
              "    <tr>\n",
              "      <th>7</th>\n",
              "      <td>9</td>\n",
              "      <td>342.0</td>\n",
              "      <td>True</td>\n",
              "      <td>42.509035</td>\n",
              "      <td>C</td>\n",
              "      <td>14.8</td>\n",
              "      <td>221.7</td>\n",
              "    </tr>\n",
              "    <tr>\n",
              "      <th>8</th>\n",
              "      <td>10</td>\n",
              "      <td>8.0</td>\n",
              "      <td>True</td>\n",
              "      <td>70.561822</td>\n",
              "      <td>C</td>\n",
              "      <td>12.6</td>\n",
              "      <td>147.3</td>\n",
              "    </tr>\n",
              "    <tr>\n",
              "      <th>9</th>\n",
              "      <td>11</td>\n",
              "      <td>536.0</td>\n",
              "      <td>True</td>\n",
              "      <td>53.715365</td>\n",
              "      <td>C</td>\n",
              "      <td>9.6</td>\n",
              "      <td>121.0</td>\n",
              "    </tr>\n",
              "    <tr>\n",
              "      <th>10</th>\n",
              "      <td>12</td>\n",
              "      <td>44.0</td>\n",
              "      <td>True</td>\n",
              "      <td>59.139196</td>\n",
              "      <td>B</td>\n",
              "      <td>10.0</td>\n",
              "      <td>114.7</td>\n",
              "    </tr>\n",
              "    <tr>\n",
              "      <th>11</th>\n",
              "      <td>13</td>\n",
              "      <td>605.0</td>\n",
              "      <td>False</td>\n",
              "      <td>45.690505</td>\n",
              "      <td>A</td>\n",
              "      <td>1.2</td>\n",
              "      <td>72.0</td>\n",
              "    </tr>\n",
              "    <tr>\n",
              "      <th>12</th>\n",
              "      <td>14</td>\n",
              "      <td>174.0</td>\n",
              "      <td>True</td>\n",
              "      <td>56.223305</td>\n",
              "      <td>B</td>\n",
              "      <td>0.9</td>\n",
              "      <td>71.0</td>\n",
              "    </tr>\n",
              "    <tr>\n",
              "      <th>13</th>\n",
              "      <td>15</td>\n",
              "      <td>511.0</td>\n",
              "      <td>True</td>\n",
              "      <td>64.647903</td>\n",
              "      <td>C</td>\n",
              "      <td>11.4</td>\n",
              "      <td>114.0</td>\n",
              "    </tr>\n",
              "    <tr>\n",
              "      <th>14</th>\n",
              "      <td>16</td>\n",
              "      <td>619.0</td>\n",
              "      <td>False</td>\n",
              "      <td>40.444639</td>\n",
              "      <td>A</td>\n",
              "      <td>0.9</td>\n",
              "      <td>120.0</td>\n",
              "    </tr>\n",
              "    <tr>\n",
              "      <th>15</th>\n",
              "      <td>17</td>\n",
              "      <td>110.0</td>\n",
              "      <td>True</td>\n",
              "      <td>52.184865</td>\n",
              "      <td>C</td>\n",
              "      <td>13.6</td>\n",
              "      <td>141.0</td>\n",
              "    </tr>\n",
              "    <tr>\n",
              "      <th>16</th>\n",
              "      <td>18</td>\n",
              "      <td>19.0</td>\n",
              "      <td>True</td>\n",
              "      <td>53.931661</td>\n",
              "      <td>C</td>\n",
              "      <td>11.4</td>\n",
              "      <td>280.6</td>\n",
              "    </tr>\n",
              "    <tr>\n",
              "      <th>17</th>\n",
              "      <td>19</td>\n",
              "      <td>698.0</td>\n",
              "      <td>False</td>\n",
              "      <td>49.561932</td>\n",
              "      <td>A</td>\n",
              "      <td>0.8</td>\n",
              "      <td>59.0</td>\n",
              "    </tr>\n",
              "    <tr>\n",
              "      <th>18</th>\n",
              "      <td>20</td>\n",
              "      <td>194.0</td>\n",
              "      <td>True</td>\n",
              "      <td>59.955098</td>\n",
              "      <td>A</td>\n",
              "      <td>32.0</td>\n",
              "      <td>156.6</td>\n",
              "    </tr>\n",
              "    <tr>\n",
              "      <th>19</th>\n",
              "      <td>21</td>\n",
              "      <td>521.0</td>\n",
              "      <td>True</td>\n",
              "      <td>64.190669</td>\n",
              "      <td>C</td>\n",
              "      <td>7.8</td>\n",
              "      <td>73.0</td>\n",
              "    </tr>\n",
              "  </tbody>\n",
              "</table>\n",
              "</div>\n",
              "      <button class=\"colab-df-convert\" onclick=\"convertToInteractive('df-355f40f0-74d1-4bfd-bb72-5c148dcb6740')\"\n",
              "              title=\"Convert this dataframe to an interactive table.\"\n",
              "              style=\"display:none;\">\n",
              "        \n",
              "  <svg xmlns=\"http://www.w3.org/2000/svg\" height=\"24px\"viewBox=\"0 0 24 24\"\n",
              "       width=\"24px\">\n",
              "    <path d=\"M0 0h24v24H0V0z\" fill=\"none\"/>\n",
              "    <path d=\"M18.56 5.44l.94 2.06.94-2.06 2.06-.94-2.06-.94-.94-2.06-.94 2.06-2.06.94zm-11 1L8.5 8.5l.94-2.06 2.06-.94-2.06-.94L8.5 2.5l-.94 2.06-2.06.94zm10 10l.94 2.06.94-2.06 2.06-.94-2.06-.94-.94-2.06-.94 2.06-2.06.94z\"/><path d=\"M17.41 7.96l-1.37-1.37c-.4-.4-.92-.59-1.43-.59-.52 0-1.04.2-1.43.59L10.3 9.45l-7.72 7.72c-.78.78-.78 2.05 0 2.83L4 21.41c.39.39.9.59 1.41.59.51 0 1.02-.2 1.41-.59l7.78-7.78 2.81-2.81c.8-.78.8-2.07 0-2.86zM5.41 20L4 18.59l7.72-7.72 1.47 1.35L5.41 20z\"/>\n",
              "  </svg>\n",
              "      </button>\n",
              "      \n",
              "  <style>\n",
              "    .colab-df-container {\n",
              "      display:flex;\n",
              "      flex-wrap:wrap;\n",
              "      gap: 12px;\n",
              "    }\n",
              "\n",
              "    .colab-df-convert {\n",
              "      background-color: #E8F0FE;\n",
              "      border: none;\n",
              "      border-radius: 50%;\n",
              "      cursor: pointer;\n",
              "      display: none;\n",
              "      fill: #1967D2;\n",
              "      height: 32px;\n",
              "      padding: 0 0 0 0;\n",
              "      width: 32px;\n",
              "    }\n",
              "\n",
              "    .colab-df-convert:hover {\n",
              "      background-color: #E2EBFA;\n",
              "      box-shadow: 0px 1px 2px rgba(60, 64, 67, 0.3), 0px 1px 3px 1px rgba(60, 64, 67, 0.15);\n",
              "      fill: #174EA6;\n",
              "    }\n",
              "\n",
              "    [theme=dark] .colab-df-convert {\n",
              "      background-color: #3B4455;\n",
              "      fill: #D2E3FC;\n",
              "    }\n",
              "\n",
              "    [theme=dark] .colab-df-convert:hover {\n",
              "      background-color: #434B5C;\n",
              "      box-shadow: 0px 1px 3px 1px rgba(0, 0, 0, 0.15);\n",
              "      filter: drop-shadow(0px 1px 2px rgba(0, 0, 0, 0.3));\n",
              "      fill: #FFFFFF;\n",
              "    }\n",
              "  </style>\n",
              "\n",
              "      <script>\n",
              "        const buttonEl =\n",
              "          document.querySelector('#df-355f40f0-74d1-4bfd-bb72-5c148dcb6740 button.colab-df-convert');\n",
              "        buttonEl.style.display =\n",
              "          google.colab.kernel.accessAllowed ? 'block' : 'none';\n",
              "\n",
              "        async function convertToInteractive(key) {\n",
              "          const element = document.querySelector('#df-355f40f0-74d1-4bfd-bb72-5c148dcb6740');\n",
              "          const dataTable =\n",
              "            await google.colab.kernel.invokeFunction('convertToInteractive',\n",
              "                                                     [key], {});\n",
              "          if (!dataTable) return;\n",
              "\n",
              "          const docLinkHtml = 'Like what you see? Visit the ' +\n",
              "            '<a target=\"_blank\" href=https://colab.research.google.com/notebooks/data_table.ipynb>data table notebook</a>'\n",
              "            + ' to learn more about interactive tables.';\n",
              "          element.innerHTML = '';\n",
              "          dataTable['output_type'] = 'display_data';\n",
              "          await google.colab.output.renderOutput(dataTable, element);\n",
              "          const docLink = document.createElement('div');\n",
              "          docLink.innerHTML = docLinkHtml;\n",
              "          element.appendChild(docLink);\n",
              "        }\n",
              "      </script>\n",
              "    </div>\n",
              "  </div>\n",
              "  "
            ]
          },
          "metadata": {},
          "execution_count": 8
        }
      ],
      "source": [
        "scooter_data  = pd.read_csv('cleaned_better_scooter.csv')\n",
        "scooter_data.head(20)"
      ]
    },
    {
      "cell_type": "code",
      "source": [
        "scooter_data.info()"
      ],
      "metadata": {
        "colab": {
          "base_uri": "https://localhost:8080/"
        },
        "id": "6am3bdCPG6xN",
        "outputId": "4b09ba26-14f4-4203-a63a-229a3455ec21"
      },
      "execution_count": null,
      "outputs": [
        {
          "output_type": "stream",
          "name": "stdout",
          "text": [
            "<class 'pandas.core.frame.DataFrame'>\n",
            "RangeIndex: 283 entries, 0 to 282\n",
            "Data columns (total 7 columns):\n",
            " #   Column             Non-Null Count  Dtype  \n",
            "---  ------             --------------  -----  \n",
            " 0   id                 283 non-null    int64  \n",
            " 1   tte                283 non-null    float64\n",
            " 2   need_repair        283 non-null    bool   \n",
            " 3   usage_length_days  283 non-null    float64\n",
            " 4   manufactor         283 non-null    object \n",
            " 5   avg_complains      283 non-null    float64\n",
            " 6   ride_miles         283 non-null    float64\n",
            "dtypes: bool(1), float64(4), int64(1), object(1)\n",
            "memory usage: 13.7+ KB\n"
          ]
        }
      ]
    },
    {
      "cell_type": "code",
      "source": [
        "scooter_data.corr().style"
      ],
      "metadata": {
        "colab": {
          "base_uri": "https://localhost:8080/",
          "height": 257
        },
        "id": "uIl8HT2bHFxd",
        "outputId": "dfd5ba9a-b054-4a05-b38e-76bb3806f633"
      },
      "execution_count": null,
      "outputs": [
        {
          "output_type": "execute_result",
          "data": {
            "text/plain": [
              "<pandas.io.formats.style.Styler at 0x7f4c5fc33fd0>"
            ],
            "text/html": [
              "<style type=\"text/css\">\n",
              "</style>\n",
              "<table id=\"T_8567d_\" class=\"dataframe\">\n",
              "  <thead>\n",
              "    <tr>\n",
              "      <th class=\"blank level0\" >&nbsp;</th>\n",
              "      <th class=\"col_heading level0 col0\" >id</th>\n",
              "      <th class=\"col_heading level0 col1\" >tte</th>\n",
              "      <th class=\"col_heading level0 col2\" >need_repair</th>\n",
              "      <th class=\"col_heading level0 col3\" >usage_length_days</th>\n",
              "      <th class=\"col_heading level0 col4\" >avg_complains</th>\n",
              "      <th class=\"col_heading level0 col5\" >ride_miles</th>\n",
              "    </tr>\n",
              "  </thead>\n",
              "  <tbody>\n",
              "    <tr>\n",
              "      <th id=\"T_8567d_level0_row0\" class=\"row_heading level0 row0\" >id</th>\n",
              "      <td id=\"T_8567d_row0_col0\" class=\"data row0 col0\" >1.000000</td>\n",
              "      <td id=\"T_8567d_row0_col1\" class=\"data row0 col1\" >-0.224873</td>\n",
              "      <td id=\"T_8567d_row0_col2\" class=\"data row0 col2\" >-0.370867</td>\n",
              "      <td id=\"T_8567d_row0_col3\" class=\"data row0 col3\" >-0.022566</td>\n",
              "      <td id=\"T_8567d_row0_col4\" class=\"data row0 col4\" >-0.233024</td>\n",
              "      <td id=\"T_8567d_row0_col5\" class=\"data row0 col5\" >-0.131589</td>\n",
              "    </tr>\n",
              "    <tr>\n",
              "      <th id=\"T_8567d_level0_row1\" class=\"row_heading level0 row1\" >tte</th>\n",
              "      <td id=\"T_8567d_row1_col0\" class=\"data row1 col0\" >-0.224873</td>\n",
              "      <td id=\"T_8567d_row1_col1\" class=\"data row1 col1\" >1.000000</td>\n",
              "      <td id=\"T_8567d_row1_col2\" class=\"data row1 col2\" >-0.584574</td>\n",
              "      <td id=\"T_8567d_row1_col3\" class=\"data row1 col3\" >-0.215777</td>\n",
              "      <td id=\"T_8567d_row1_col4\" class=\"data row1 col4\" >-0.389063</td>\n",
              "      <td id=\"T_8567d_row1_col5\" class=\"data row1 col5\" >-0.213347</td>\n",
              "    </tr>\n",
              "    <tr>\n",
              "      <th id=\"T_8567d_level0_row2\" class=\"row_heading level0 row2\" >need_repair</th>\n",
              "      <td id=\"T_8567d_row2_col0\" class=\"data row2 col0\" >-0.370867</td>\n",
              "      <td id=\"T_8567d_row2_col1\" class=\"data row2 col1\" >-0.584574</td>\n",
              "      <td id=\"T_8567d_row2_col2\" class=\"data row2 col2\" >1.000000</td>\n",
              "      <td id=\"T_8567d_row2_col3\" class=\"data row2 col3\" >0.253700</td>\n",
              "      <td id=\"T_8567d_row2_col4\" class=\"data row2 col4\" >0.577017</td>\n",
              "      <td id=\"T_8567d_row2_col5\" class=\"data row2 col5\" >0.342298</td>\n",
              "    </tr>\n",
              "    <tr>\n",
              "      <th id=\"T_8567d_level0_row3\" class=\"row_heading level0 row3\" >usage_length_days</th>\n",
              "      <td id=\"T_8567d_row3_col0\" class=\"data row3 col0\" >-0.022566</td>\n",
              "      <td id=\"T_8567d_row3_col1\" class=\"data row3 col1\" >-0.215777</td>\n",
              "      <td id=\"T_8567d_row3_col2\" class=\"data row3 col2\" >0.253700</td>\n",
              "      <td id=\"T_8567d_row3_col3\" class=\"data row3 col3\" >1.000000</td>\n",
              "      <td id=\"T_8567d_row3_col4\" class=\"data row3 col4\" >-0.033051</td>\n",
              "      <td id=\"T_8567d_row3_col5\" class=\"data row3 col5\" >-0.117033</td>\n",
              "    </tr>\n",
              "    <tr>\n",
              "      <th id=\"T_8567d_level0_row4\" class=\"row_heading level0 row4\" >avg_complains</th>\n",
              "      <td id=\"T_8567d_row4_col0\" class=\"data row4 col0\" >-0.233024</td>\n",
              "      <td id=\"T_8567d_row4_col1\" class=\"data row4 col1\" >-0.389063</td>\n",
              "      <td id=\"T_8567d_row4_col2\" class=\"data row4 col2\" >0.577017</td>\n",
              "      <td id=\"T_8567d_row4_col3\" class=\"data row4 col3\" >-0.033051</td>\n",
              "      <td id=\"T_8567d_row4_col4\" class=\"data row4 col4\" >1.000000</td>\n",
              "      <td id=\"T_8567d_row4_col5\" class=\"data row4 col5\" >0.448281</td>\n",
              "    </tr>\n",
              "    <tr>\n",
              "      <th id=\"T_8567d_level0_row5\" class=\"row_heading level0 row5\" >ride_miles</th>\n",
              "      <td id=\"T_8567d_row5_col0\" class=\"data row5 col0\" >-0.131589</td>\n",
              "      <td id=\"T_8567d_row5_col1\" class=\"data row5 col1\" >-0.213347</td>\n",
              "      <td id=\"T_8567d_row5_col2\" class=\"data row5 col2\" >0.342298</td>\n",
              "      <td id=\"T_8567d_row5_col3\" class=\"data row5 col3\" >-0.117033</td>\n",
              "      <td id=\"T_8567d_row5_col4\" class=\"data row5 col4\" >0.448281</td>\n",
              "      <td id=\"T_8567d_row5_col5\" class=\"data row5 col5\" >1.000000</td>\n",
              "    </tr>\n",
              "  </tbody>\n",
              "</table>\n"
            ]
          },
          "metadata": {},
          "execution_count": 10
        }
      ]
    },
    {
      "cell_type": "code",
      "source": [
        "scooter_data.describe()"
      ],
      "metadata": {
        "colab": {
          "base_uri": "https://localhost:8080/",
          "height": 300
        },
        "id": "SGbLUTXNH6gS",
        "outputId": "c98779ef-12c9-45f3-e171-7c5c2002bc6c"
      },
      "execution_count": null,
      "outputs": [
        {
          "output_type": "execute_result",
          "data": {
            "text/plain": [
              "               id         tte  usage_length_days  avg_complains   ride_miles\n",
              "count  283.000000  283.000000         283.000000     283.000000   283.000000\n",
              "mean   149.717314  342.932862          50.983476       6.944523   127.448410\n",
              "std     89.122702  189.818332          10.388727       8.340808    93.307624\n",
              "min      1.000000    6.000000          28.885117       0.300000     6.200000\n",
              "25%     72.500000  197.500000          43.538495       0.900000    71.000000\n",
              "50%    148.000000  342.000000          51.251232       2.500000   113.000000\n",
              "75%    221.500000  473.000000          57.772971      11.450000   160.000000\n",
              "max    312.000000  744.000000          78.441573      41.000000  1205.000000"
            ],
            "text/html": [
              "\n",
              "  <div id=\"df-04af8351-1289-4002-a328-46c947154f70\">\n",
              "    <div class=\"colab-df-container\">\n",
              "      <div>\n",
              "<style scoped>\n",
              "    .dataframe tbody tr th:only-of-type {\n",
              "        vertical-align: middle;\n",
              "    }\n",
              "\n",
              "    .dataframe tbody tr th {\n",
              "        vertical-align: top;\n",
              "    }\n",
              "\n",
              "    .dataframe thead th {\n",
              "        text-align: right;\n",
              "    }\n",
              "</style>\n",
              "<table border=\"1\" class=\"dataframe\">\n",
              "  <thead>\n",
              "    <tr style=\"text-align: right;\">\n",
              "      <th></th>\n",
              "      <th>id</th>\n",
              "      <th>tte</th>\n",
              "      <th>usage_length_days</th>\n",
              "      <th>avg_complains</th>\n",
              "      <th>ride_miles</th>\n",
              "    </tr>\n",
              "  </thead>\n",
              "  <tbody>\n",
              "    <tr>\n",
              "      <th>count</th>\n",
              "      <td>283.000000</td>\n",
              "      <td>283.000000</td>\n",
              "      <td>283.000000</td>\n",
              "      <td>283.000000</td>\n",
              "      <td>283.000000</td>\n",
              "    </tr>\n",
              "    <tr>\n",
              "      <th>mean</th>\n",
              "      <td>149.717314</td>\n",
              "      <td>342.932862</td>\n",
              "      <td>50.983476</td>\n",
              "      <td>6.944523</td>\n",
              "      <td>127.448410</td>\n",
              "    </tr>\n",
              "    <tr>\n",
              "      <th>std</th>\n",
              "      <td>89.122702</td>\n",
              "      <td>189.818332</td>\n",
              "      <td>10.388727</td>\n",
              "      <td>8.340808</td>\n",
              "      <td>93.307624</td>\n",
              "    </tr>\n",
              "    <tr>\n",
              "      <th>min</th>\n",
              "      <td>1.000000</td>\n",
              "      <td>6.000000</td>\n",
              "      <td>28.885117</td>\n",
              "      <td>0.300000</td>\n",
              "      <td>6.200000</td>\n",
              "    </tr>\n",
              "    <tr>\n",
              "      <th>25%</th>\n",
              "      <td>72.500000</td>\n",
              "      <td>197.500000</td>\n",
              "      <td>43.538495</td>\n",
              "      <td>0.900000</td>\n",
              "      <td>71.000000</td>\n",
              "    </tr>\n",
              "    <tr>\n",
              "      <th>50%</th>\n",
              "      <td>148.000000</td>\n",
              "      <td>342.000000</td>\n",
              "      <td>51.251232</td>\n",
              "      <td>2.500000</td>\n",
              "      <td>113.000000</td>\n",
              "    </tr>\n",
              "    <tr>\n",
              "      <th>75%</th>\n",
              "      <td>221.500000</td>\n",
              "      <td>473.000000</td>\n",
              "      <td>57.772971</td>\n",
              "      <td>11.450000</td>\n",
              "      <td>160.000000</td>\n",
              "    </tr>\n",
              "    <tr>\n",
              "      <th>max</th>\n",
              "      <td>312.000000</td>\n",
              "      <td>744.000000</td>\n",
              "      <td>78.441573</td>\n",
              "      <td>41.000000</td>\n",
              "      <td>1205.000000</td>\n",
              "    </tr>\n",
              "  </tbody>\n",
              "</table>\n",
              "</div>\n",
              "      <button class=\"colab-df-convert\" onclick=\"convertToInteractive('df-04af8351-1289-4002-a328-46c947154f70')\"\n",
              "              title=\"Convert this dataframe to an interactive table.\"\n",
              "              style=\"display:none;\">\n",
              "        \n",
              "  <svg xmlns=\"http://www.w3.org/2000/svg\" height=\"24px\"viewBox=\"0 0 24 24\"\n",
              "       width=\"24px\">\n",
              "    <path d=\"M0 0h24v24H0V0z\" fill=\"none\"/>\n",
              "    <path d=\"M18.56 5.44l.94 2.06.94-2.06 2.06-.94-2.06-.94-.94-2.06-.94 2.06-2.06.94zm-11 1L8.5 8.5l.94-2.06 2.06-.94-2.06-.94L8.5 2.5l-.94 2.06-2.06.94zm10 10l.94 2.06.94-2.06 2.06-.94-2.06-.94-.94-2.06-.94 2.06-2.06.94z\"/><path d=\"M17.41 7.96l-1.37-1.37c-.4-.4-.92-.59-1.43-.59-.52 0-1.04.2-1.43.59L10.3 9.45l-7.72 7.72c-.78.78-.78 2.05 0 2.83L4 21.41c.39.39.9.59 1.41.59.51 0 1.02-.2 1.41-.59l7.78-7.78 2.81-2.81c.8-.78.8-2.07 0-2.86zM5.41 20L4 18.59l7.72-7.72 1.47 1.35L5.41 20z\"/>\n",
              "  </svg>\n",
              "      </button>\n",
              "      \n",
              "  <style>\n",
              "    .colab-df-container {\n",
              "      display:flex;\n",
              "      flex-wrap:wrap;\n",
              "      gap: 12px;\n",
              "    }\n",
              "\n",
              "    .colab-df-convert {\n",
              "      background-color: #E8F0FE;\n",
              "      border: none;\n",
              "      border-radius: 50%;\n",
              "      cursor: pointer;\n",
              "      display: none;\n",
              "      fill: #1967D2;\n",
              "      height: 32px;\n",
              "      padding: 0 0 0 0;\n",
              "      width: 32px;\n",
              "    }\n",
              "\n",
              "    .colab-df-convert:hover {\n",
              "      background-color: #E2EBFA;\n",
              "      box-shadow: 0px 1px 2px rgba(60, 64, 67, 0.3), 0px 1px 3px 1px rgba(60, 64, 67, 0.15);\n",
              "      fill: #174EA6;\n",
              "    }\n",
              "\n",
              "    [theme=dark] .colab-df-convert {\n",
              "      background-color: #3B4455;\n",
              "      fill: #D2E3FC;\n",
              "    }\n",
              "\n",
              "    [theme=dark] .colab-df-convert:hover {\n",
              "      background-color: #434B5C;\n",
              "      box-shadow: 0px 1px 3px 1px rgba(0, 0, 0, 0.15);\n",
              "      filter: drop-shadow(0px 1px 2px rgba(0, 0, 0, 0.3));\n",
              "      fill: #FFFFFF;\n",
              "    }\n",
              "  </style>\n",
              "\n",
              "      <script>\n",
              "        const buttonEl =\n",
              "          document.querySelector('#df-04af8351-1289-4002-a328-46c947154f70 button.colab-df-convert');\n",
              "        buttonEl.style.display =\n",
              "          google.colab.kernel.accessAllowed ? 'block' : 'none';\n",
              "\n",
              "        async function convertToInteractive(key) {\n",
              "          const element = document.querySelector('#df-04af8351-1289-4002-a328-46c947154f70');\n",
              "          const dataTable =\n",
              "            await google.colab.kernel.invokeFunction('convertToInteractive',\n",
              "                                                     [key], {});\n",
              "          if (!dataTable) return;\n",
              "\n",
              "          const docLinkHtml = 'Like what you see? Visit the ' +\n",
              "            '<a target=\"_blank\" href=https://colab.research.google.com/notebooks/data_table.ipynb>data table notebook</a>'\n",
              "            + ' to learn more about interactive tables.';\n",
              "          element.innerHTML = '';\n",
              "          dataTable['output_type'] = 'display_data';\n",
              "          await google.colab.output.renderOutput(dataTable, element);\n",
              "          const docLink = document.createElement('div');\n",
              "          docLink.innerHTML = docLinkHtml;\n",
              "          element.appendChild(docLink);\n",
              "        }\n",
              "      </script>\n",
              "    </div>\n",
              "  </div>\n",
              "  "
            ]
          },
          "metadata": {},
          "execution_count": 11
        }
      ]
    },
    {
      "cell_type": "code",
      "source": [
        "counts= scooter_data['need_repair'].tolist()"
      ],
      "metadata": {
        "id": "5HPsM8L5aYuL"
      },
      "execution_count": null,
      "outputs": []
    },
    {
      "cell_type": "code",
      "source": [
        "t = 0\n",
        "f = 0\n",
        "for i in counts:\n",
        "  if counts[i] == True:\n",
        "    t += 1\n",
        "  else:\n",
        "    f += 1\n",
        "print(t,f)\n",
        "y = np.array([t,f])\n",
        "mylabels = [\"True - Broken\",\"False - Not Broken\"]\n",
        "\n",
        "plt.pie(y, labels = mylabels, startangle = 90, autopct='%1.0f%%')\n",
        "plt.title('Proportion of Broken and Not-Broken scooters')\n",
        "plt.show() "
      ],
      "metadata": {
        "colab": {
          "base_uri": "https://localhost:8080/",
          "height": 281
        },
        "id": "YsUS9QnPW-Vo",
        "outputId": "0a6d9e80-0da6-497a-f733-16262d252eb6"
      },
      "execution_count": null,
      "outputs": [
        {
          "output_type": "stream",
          "name": "stdout",
          "text": [
            "143 140\n"
          ]
        },
        {
          "output_type": "display_data",
          "data": {
            "text/plain": [
              "<Figure size 432x288 with 1 Axes>"
            ],
            "image/png": "[encoded data removed]"
          },
          "metadata": {}
        }
      ]
    },
    {
      "cell_type": "code",
      "source": [
        "fig = plt.figure(figsize=(12, 5))\n",
        "import matplotlib.ticker as mtick\n",
        "#Absolute distribution\n",
        "plt.subplot(1, 2, 1)\n",
        "ax1 = scooter_data.groupby([ 'manufactor','need_repair'])['manufactor'].count().unstack().plot.bar(rot=0, ax=plt.gca(), width=0.7)\n",
        "plt.title('Need_repair by manufactor:\\n Absolute distribution') \n",
        "\n",
        "#plot bar labels\n",
        "for p in ax1.patches:\n",
        "    ax1.annotate(str(p.get_height()), (p.get_x() + 0.1, p.get_height()/2))\n",
        "\n",
        "#Relative distribution\n",
        "plt.subplot(1, 2, 2)\n",
        "ax2 = scooter_data.groupby([ 'manufactor','need_repair'])['manufactor'].size().groupby(level=0).apply(\n",
        "    lambda x: 100 * x / x.sum()).unstack().plot(kind='bar',stacked=True, rot=0, ax=plt.gca())\n",
        "plt.gca().yaxis.set_major_formatter(mtick.PercentFormatter())\n",
        "plt.legend(bbox_to_anchor=(1, 1))\n",
        "plt.title('Need_repair by manufactor:\\n Relative distribution') \n",
        "\n",
        "#plot bar labels\n",
        "for p, q in zip(ax2.patches[0:3], ax2.patches[3:6]):\n",
        "    ax2.annotate(str(round(p.get_height(),1))+'%', (p.get_x()+0.2, p.get_height()/2))\n",
        "    ax2.annotate(str(round(q.get_height(),1))+'%', (q.get_x()+0.2, q.get_height()/2+p.get_height()))\n",
        "\n",
        "plt.tight_layout()\n",
        "plt.show()"
      ],
      "metadata": {
        "colab": {
          "base_uri": "https://localhost:8080/",
          "height": 276
        },
        "id": "_zzTWIK7VBtv",
        "outputId": "0d461d5e-4c51-413a-b341-603fc5470474"
      },
      "execution_count": null,
      "outputs": [
        {
          "output_type": "display_data",
          "data": {
            "text/plain": [
              "<Figure size 864x360 with 2 Axes>"
            ],
            "image/png": "[encoded data removed]"
          },
          "metadata": {
            "needs_background": "light"
          }
        }
      ]
    },
    {
      "cell_type": "code",
      "source": [
        "ax = scooter_data['avg_complains'].loc[scooter_data['need_repair'] == 0].plot.hist(bins=15, density = True, alpha=0.8, label='False (Not broken)', figsize = (10,5))\n",
        "ax = scooter_data['avg_complains'].loc[scooter_data['need_repair'] == 1].plot.hist(bins=15, density = True, alpha=0.8, label='True (Broken)', figsize = (10,5))\n",
        "ax.set_xlabel('avg_complains')\n",
        "ax.set_title('Average complaints distribution by need_repair')\n",
        "ax.legend();"
      ],
      "metadata": {
        "colab": {
          "base_uri": "https://localhost:8080/",
          "height": 351
        },
        "id": "TOX2sA4-WjJ3",
        "outputId": "32e41e84-623a-4137-9f98-369202e36e30"
      },
      "execution_count": null,
      "outputs": [
        {
          "output_type": "display_data",
          "data": {
            "text/plain": [
              "<Figure size 720x360 with 1 Axes>"
            ],
            "image/png": "[encoded data removed]"
          },
          "metadata": {
            "needs_background": "light"
          }
        }
      ]
    },
    {
      "cell_type": "markdown",
      "source": [
        "# **KM Estimator/Intuitive interpretation**"
      ],
      "metadata": {
        "id": "6tWA_HiYBG4s"
      }
    },
    {
      "cell_type": "markdown",
      "source": [
        "Firstly, we plot the Kaplan Meier survival curve for all scooters in the historical dataset, from which we see\n",
        "that the survival rate for all scooters decrease gradually over the investigating time. From day 600 to 700,\n",
        "the chances that a scooter being broken almost doesn't decrease anymore. However, the rate plunges\n",
        "down after 700 days. \n"
      ],
      "metadata": {
        "id": "nWFPQAu8-PJA"
      }
    },
    {
      "cell_type": "code",
      "source": [
        "surv_features, surv_labels_df = get_x_y(scooter_data, ['need_repair','tte'],survival = False)\n",
        "surv_labels = Surv.from_dataframe('need_repair','tte',surv_labels_df)\n",
        "print('\\n======== features for survival analysis ========\\n', surv_features[:10])\n",
        "print('\\n======== labels for survival analysis ========\\n',surv_labels[:10])"
      ],
      "metadata": {
        "colab": {
          "base_uri": "https://localhost:8080/"
        },
        "id": "Gofvf0vYLqJU",
        "outputId": "d5cd5fec-8aff-4265-e065-ef70aee1f482"
      },
      "execution_count": null,
      "outputs": [
        {
          "output_type": "stream",
          "name": "stdout",
          "text": [
            "\n",
            "======== features for survival analysis ========\n",
            "    id  usage_length_days manufactor  avg_complains  ride_miles\n",
            "0   1          58.766838          C           21.3         6.2\n",
            "1   2          56.447815          C            4.6        88.0\n",
            "2   3          70.074472          B            1.8        88.4\n",
            "3   4          54.742087          C            5.3       131.8\n",
            "4   6          66.260541          A            0.7        60.0\n",
            "5   7          55.536086          A            1.4        54.0\n",
            "6   8          53.058263          B            5.4       120.9\n",
            "7   9          42.509035          C           14.8       221.7\n",
            "8  10          70.561822          C           12.6       147.3\n",
            "9  11          53.715365          C            9.6       121.0\n",
            "\n",
            "======== labels for survival analysis ========\n",
            " [( True,  57.) (False, 736.) ( True, 145.) ( True, 275.) ( True, 357.)\n",
            " (False, 357.) ( True, 352.) ( True, 342.) ( True,   8.) ( True, 536.)]\n"
          ]
        }
      ]
    },
    {
      "cell_type": "code",
      "source": [
        "# fitting kmf to the data and plotting\n",
        "%matplotlib inline\n",
        "import matplotlib.pyplot as plt\n",
        "from sksurv.nonparametric import kaplan_meier_estimator\n",
        "\n",
        "time, survival_prob = kaplan_meier_estimator(scooter_data[\"need_repair\"], scooter_data[\"tte\"])\n",
        "plt.step(time, survival_prob, where=\"post\")\n",
        "plt.ylabel(\"est. probability of survival $\\hat{S}(t)$\")\n",
        "plt.xlabel(\"time $t$\")\n",
        "plt.title('Kaplan-Meier survival curvve - all scooters')"
      ],
      "metadata": {
        "colab": {
          "base_uri": "https://localhost:8080/",
          "height": 314
        },
        "id": "_7WN6sR1IAz7",
        "outputId": "6588d4fd-4986-4a5b-8526-e7290f470bf9"
      },
      "execution_count": null,
      "outputs": [
        {
          "output_type": "execute_result",
          "data": {
            "text/plain": [
              "Text(0.5, 1.0, 'Kaplan-Meier survival curvve - all scooters')"
            ]
          },
          "metadata": {},
          "execution_count": 17
        },
        {
          "output_type": "display_data",
          "data": {
            "text/plain": [
              "<Figure size 432x288 with 1 Axes>"
            ],
            "image/png": "[encoded data removed]"
          },
          "metadata": {
            "needs_background": "light"
          }
        }
      ]
    },
    {
      "cell_type": "code",
      "source": [
        "scooter_data['manufactor'].value_counts()"
      ],
      "metadata": {
        "colab": {
          "base_uri": "https://localhost:8080/"
        },
        "id": "Oi8akkHsf8Ar",
        "outputId": "2ac82d18-24e5-4bf5-9402-f3064f91a2aa"
      },
      "execution_count": null,
      "outputs": [
        {
          "output_type": "execute_result",
          "data": {
            "text/plain": [
              "A    150\n",
              "B     69\n",
              "C     64\n",
              "Name: manufactor, dtype: int64"
            ]
          },
          "metadata": {},
          "execution_count": 18
        }
      ]
    },
    {
      "cell_type": "code",
      "source": [
        "# check survival curves for different manufactors\n",
        "for manufactor in (\"A\", \"B\",\"C\"):\n",
        "    mask_treat = scooter_data[\"manufactor\"] == manufactor\n",
        "    time_treatment, survival_prob_treatment = kaplan_meier_estimator(\n",
        "        scooter_data[\"need_repair\"][mask_treat],\n",
        "        scooter_data[\"tte\"][mask_treat])\n",
        "\n",
        "    plt.step(time_treatment, survival_prob_treatment, where=\"post\",\n",
        "             label=\"manufactor = %s\" % manufactor)\n",
        "\n",
        "plt.ylabel(\"est. probability of survival $\\hat{S}(t)$\")\n",
        "plt.xlabel(\"time $t$\")\n",
        "plt.title('Scooter survival by manufactors')\n",
        "plt.legend(loc=\"best\")"
      ],
      "metadata": {
        "colab": {
          "base_uri": "https://localhost:8080/",
          "height": 314
        },
        "id": "CfCvX7PLiaYr",
        "outputId": "c43ad15b-4626-4e8a-e1fb-2f150b566378"
      },
      "execution_count": null,
      "outputs": [
        {
          "output_type": "execute_result",
          "data": {
            "text/plain": [
              "<matplotlib.legend.Legend at 0x7f4c418981d0>"
            ]
          },
          "metadata": {},
          "execution_count": 19
        },
        {
          "output_type": "display_data",
          "data": {
            "text/plain": [
              "<Figure size 432x288 with 1 Axes>"
            ],
            "image/png": "[encoded data removed]"
          },
          "metadata": {
            "needs_background": "light"
          }
        }
      ]
    },
    {
      "cell_type": "markdown",
      "source": [
        "Then, we plot the KM survival curve for scooters from different manufactors in the same plot. \n",
        "\n",
        "Overall,\n",
        "different manufactor’s scooters have different chances of staying functional (not broken). More than 60%\n",
        "of scooters from manufactor A are still working after 700 days. Meanwhile, scooters from manufactor B\n",
        "have survival rate of around 28% after 700 days. \n",
        "\n",
        "Lastly, the scooter survival chance decreases most\n",
        "quickly for the scooters from manufactor C, leaving less than 10% of the scooters still working after 700\n",
        "days. \n",
        "\n",
        "From the intuitive interpretation, we can recommend purchasing scooters from manufactor A,\n",
        "since their scooters are the most durable, having the highest survival chance at every time point. "
      ],
      "metadata": {
        "id": "D-azRwGh-no7"
      }
    },
    {
      "cell_type": "code",
      "source": [
        "from sksurv import compare\n",
        "sksurv.compare.compare_survival(surv_labels, mask_treat, return_stats=True)"
      ],
      "metadata": {
        "colab": {
          "base_uri": "https://localhost:8080/"
        },
        "id": "nX2E-N9n1ahg",
        "outputId": "2de131df-41ba-4569-f951-92602a285770"
      },
      "execution_count": null,
      "outputs": [
        {
          "output_type": "execute_result",
          "data": {
            "text/plain": [
              "(47.96129191725354,\n",
              " 4.347172406989874e-12,\n",
              "        counts  observed   expected  statistic\n",
              " group                                        \n",
              " False     219        84  115.20089  -31.20089\n",
              " True       64        56   24.79911   31.20089,\n",
              " array([[ 20.29752571, -20.29752571],\n",
              "        [-20.29752571,  20.29752571]]))"
            ]
          },
          "metadata": {},
          "execution_count": 20
        }
      ]
    },
    {
      "cell_type": "markdown",
      "source": [
        "# **Log rank test**\n",
        "\n",
        "As mentioned earlier in method discussion, visually comparing the survival curves is objective, therefore,\n",
        "we also draw interpretation from the log rank test.\n",
        "\n",
        "Log rank test yielded a p-value of 4.347172406989874e-12, which is much smaller than the significance\n",
        "level of 0.01. This rejects the null hypothesis, and we can now confirm that there are differences in\n",
        "survival rates of the scooters from different manufactors. "
      ],
      "metadata": {
        "id": "JiKI7GJt-3IZ"
      }
    },
    {
      "cell_type": "markdown",
      "source": [
        "# **Random forest and survival analysis**"
      ],
      "metadata": {
        "id": "Ql9S2fDBFpmk"
      }
    },
    {
      "cell_type": "markdown",
      "source": [
        "Before building our models, we got rid of redundant column ‘id’ and use get_dummies for one-hotencoding variable ‘manufactor’. Then we split the dataset into training and testing data, build the models\n",
        "on the training data and test it on test data, the results are below.\n",
        "\n",
        "Cox Proportional Hazard analysis has concordance index of 0.7758, which is quite good. However, the\n",
        "concordance index for random forest analysis is even higher, at 0.8144. We decided to report features\n",
        "importance and predict survival rate for our scooters in inventory by Random Survival Forest model."
      ],
      "metadata": {
        "id": "rYTZNq8__EYS"
      }
    },
    {
      "cell_type": "code",
      "source": [
        "#dropping id column\n",
        "scooter_data2 = scooter_data.drop('id', axis = 1).copy()"
      ],
      "metadata": {
        "id": "36x31UoqGIxy"
      },
      "execution_count": null,
      "outputs": []
    },
    {
      "cell_type": "code",
      "source": [
        "scooter_data2 = pd.get_dummies(scooter_data2, \n",
        "                              drop_first=True,\n",
        "                              columns=['manufactor'])"
      ],
      "metadata": {
        "id": "6ARCuu_OzMOZ"
      },
      "execution_count": null,
      "outputs": []
    },
    {
      "cell_type": "code",
      "source": [
        "scooter_data2"
      ],
      "metadata": {
        "colab": {
          "base_uri": "https://localhost:8080/",
          "height": 488
        },
        "id": "Mun7t07Wzuct",
        "outputId": "a3345bfe-1511-464b-c07c-16cd8480b5cd"
      },
      "execution_count": null,
      "outputs": [
        {
          "output_type": "execute_result",
          "data": {
            "text/plain": [
              "       tte  need_repair  usage_length_days  avg_complains  ride_miles  \\\n",
              "0     57.0         True          58.766838           21.3         6.2   \n",
              "1    736.0        False          56.447815            4.6        88.0   \n",
              "2    145.0         True          70.074472            1.8        88.4   \n",
              "3    275.0         True          54.742087            5.3       131.8   \n",
              "4    357.0         True          66.260541            0.7        60.0   \n",
              "..     ...          ...                ...            ...         ...   \n",
              "278  260.0        False          61.184427            1.1       103.0   \n",
              "279  237.0        False          58.301391            0.6        90.0   \n",
              "280  229.0        False          62.334355            1.8        65.0   \n",
              "281  215.0        False          37.999671            0.6       191.0   \n",
              "282  208.0        False          33.153543           23.4       200.0   \n",
              "\n",
              "     manufactor_B  manufactor_C  \n",
              "0               0             1  \n",
              "1               0             1  \n",
              "2               1             0  \n",
              "3               0             1  \n",
              "4               0             0  \n",
              "..            ...           ...  \n",
              "278             0             0  \n",
              "279             0             0  \n",
              "280             1             0  \n",
              "281             0             0  \n",
              "282             1             0  \n",
              "\n",
              "[283 rows x 7 columns]"
            ],
            "text/html": [
              "\n",
              "  <div id=\"df-32d8ef78-ab1b-41a2-9a45-5abecd184d0e\">\n",
              "    <div class=\"colab-df-container\">\n",
              "      <div>\n",
              "<style scoped>\n",
              "    .dataframe tbody tr th:only-of-type {\n",
              "        vertical-align: middle;\n",
              "    }\n",
              "\n",
              "    .dataframe tbody tr th {\n",
              "        vertical-align: top;\n",
              "    }\n",
              "\n",
              "    .dataframe thead th {\n",
              "        text-align: right;\n",
              "    }\n",
              "</style>\n",
              "<table border=\"1\" class=\"dataframe\">\n",
              "  <thead>\n",
              "    <tr style=\"text-align: right;\">\n",
              "      <th></th>\n",
              "      <th>tte</th>\n",
              "      <th>need_repair</th>\n",
              "      <th>usage_length_days</th>\n",
              "      <th>avg_complains</th>\n",
              "      <th>ride_miles</th>\n",
              "      <th>manufactor_B</th>\n",
              "      <th>manufactor_C</th>\n",
              "    </tr>\n",
              "  </thead>\n",
              "  <tbody>\n",
              "    <tr>\n",
              "      <th>0</th>\n",
              "      <td>57.0</td>\n",
              "      <td>True</td>\n",
              "      <td>58.766838</td>\n",
              "      <td>21.3</td>\n",
              "      <td>6.2</td>\n",
              "      <td>0</td>\n",
              "      <td>1</td>\n",
              "    </tr>\n",
              "    <tr>\n",
              "      <th>1</th>\n",
              "      <td>736.0</td>\n",
              "      <td>False</td>\n",
              "      <td>56.447815</td>\n",
              "      <td>4.6</td>\n",
              "      <td>88.0</td>\n",
              "      <td>0</td>\n",
              "      <td>1</td>\n",
              "    </tr>\n",
              "    <tr>\n",
              "      <th>2</th>\n",
              "      <td>145.0</td>\n",
              "      <td>True</td>\n",
              "      <td>70.074472</td>\n",
              "      <td>1.8</td>\n",
              "      <td>88.4</td>\n",
              "      <td>1</td>\n",
              "      <td>0</td>\n",
              "    </tr>\n",
              "    <tr>\n",
              "      <th>3</th>\n",
              "      <td>275.0</td>\n",
              "      <td>True</td>\n",
              "      <td>54.742087</td>\n",
              "      <td>5.3</td>\n",
              "      <td>131.8</td>\n",
              "      <td>0</td>\n",
              "      <td>1</td>\n",
              "    </tr>\n",
              "    <tr>\n",
              "      <th>4</th>\n",
              "      <td>357.0</td>\n",
              "      <td>True</td>\n",
              "      <td>66.260541</td>\n",
              "      <td>0.7</td>\n",
              "      <td>60.0</td>\n",
              "      <td>0</td>\n",
              "      <td>0</td>\n",
              "    </tr>\n",
              "    <tr>\n",
              "      <th>...</th>\n",
              "      <td>...</td>\n",
              "      <td>...</td>\n",
              "      <td>...</td>\n",
              "      <td>...</td>\n",
              "      <td>...</td>\n",
              "      <td>...</td>\n",
              "      <td>...</td>\n",
              "    </tr>\n",
              "    <tr>\n",
              "      <th>278</th>\n",
              "      <td>260.0</td>\n",
              "      <td>False</td>\n",
              "      <td>61.184427</td>\n",
              "      <td>1.1</td>\n",
              "      <td>103.0</td>\n",
              "      <td>0</td>\n",
              "      <td>0</td>\n",
              "    </tr>\n",
              "    <tr>\n",
              "      <th>279</th>\n",
              "      <td>237.0</td>\n",
              "      <td>False</td>\n",
              "      <td>58.301391</td>\n",
              "      <td>0.6</td>\n",
              "      <td>90.0</td>\n",
              "      <td>0</td>\n",
              "      <td>0</td>\n",
              "    </tr>\n",
              "    <tr>\n",
              "      <th>280</th>\n",
              "      <td>229.0</td>\n",
              "      <td>False</td>\n",
              "      <td>62.334355</td>\n",
              "      <td>1.8</td>\n",
              "      <td>65.0</td>\n",
              "      <td>1</td>\n",
              "      <td>0</td>\n",
              "    </tr>\n",
              "    <tr>\n",
              "      <th>281</th>\n",
              "      <td>215.0</td>\n",
              "      <td>False</td>\n",
              "      <td>37.999671</td>\n",
              "      <td>0.6</td>\n",
              "      <td>191.0</td>\n",
              "      <td>0</td>\n",
              "      <td>0</td>\n",
              "    </tr>\n",
              "    <tr>\n",
              "      <th>282</th>\n",
              "      <td>208.0</td>\n",
              "      <td>False</td>\n",
              "      <td>33.153543</td>\n",
              "      <td>23.4</td>\n",
              "      <td>200.0</td>\n",
              "      <td>1</td>\n",
              "      <td>0</td>\n",
              "    </tr>\n",
              "  </tbody>\n",
              "</table>\n",
              "<p>283 rows × 7 columns</p>\n",
              "</div>\n",
              "      <button class=\"colab-df-convert\" onclick=\"convertToInteractive('df-32d8ef78-ab1b-41a2-9a45-5abecd184d0e')\"\n",
              "              title=\"Convert this dataframe to an interactive table.\"\n",
              "              style=\"display:none;\">\n",
              "        \n",
              "  <svg xmlns=\"http://www.w3.org/2000/svg\" height=\"24px\"viewBox=\"0 0 24 24\"\n",
              "       width=\"24px\">\n",
              "    <path d=\"M0 0h24v24H0V0z\" fill=\"none\"/>\n",
              "    <path d=\"M18.56 5.44l.94 2.06.94-2.06 2.06-.94-2.06-.94-.94-2.06-.94 2.06-2.06.94zm-11 1L8.5 8.5l.94-2.06 2.06-.94-2.06-.94L8.5 2.5l-.94 2.06-2.06.94zm10 10l.94 2.06.94-2.06 2.06-.94-2.06-.94-.94-2.06-.94 2.06-2.06.94z\"/><path d=\"M17.41 7.96l-1.37-1.37c-.4-.4-.92-.59-1.43-.59-.52 0-1.04.2-1.43.59L10.3 9.45l-7.72 7.72c-.78.78-.78 2.05 0 2.83L4 21.41c.39.39.9.59 1.41.59.51 0 1.02-.2 1.41-.59l7.78-7.78 2.81-2.81c.8-.78.8-2.07 0-2.86zM5.41 20L4 18.59l7.72-7.72 1.47 1.35L5.41 20z\"/>\n",
              "  </svg>\n",
              "      </button>\n",
              "      \n",
              "  <style>\n",
              "    .colab-df-container {\n",
              "      display:flex;\n",
              "      flex-wrap:wrap;\n",
              "      gap: 12px;\n",
              "    }\n",
              "\n",
              "    .colab-df-convert {\n",
              "      background-color: #E8F0FE;\n",
              "      border: none;\n",
              "      border-radius: 50%;\n",
              "      cursor: pointer;\n",
              "      display: none;\n",
              "      fill: #1967D2;\n",
              "      height: 32px;\n",
              "      padding: 0 0 0 0;\n",
              "      width: 32px;\n",
              "    }\n",
              "\n",
              "    .colab-df-convert:hover {\n",
              "      background-color: #E2EBFA;\n",
              "      box-shadow: 0px 1px 2px rgba(60, 64, 67, 0.3), 0px 1px 3px 1px rgba(60, 64, 67, 0.15);\n",
              "      fill: #174EA6;\n",
              "    }\n",
              "\n",
              "    [theme=dark] .colab-df-convert {\n",
              "      background-color: #3B4455;\n",
              "      fill: #D2E3FC;\n",
              "    }\n",
              "\n",
              "    [theme=dark] .colab-df-convert:hover {\n",
              "      background-color: #434B5C;\n",
              "      box-shadow: 0px 1px 3px 1px rgba(0, 0, 0, 0.15);\n",
              "      filter: drop-shadow(0px 1px 2px rgba(0, 0, 0, 0.3));\n",
              "      fill: #FFFFFF;\n",
              "    }\n",
              "  </style>\n",
              "\n",
              "      <script>\n",
              "        const buttonEl =\n",
              "          document.querySelector('#df-32d8ef78-ab1b-41a2-9a45-5abecd184d0e button.colab-df-convert');\n",
              "        buttonEl.style.display =\n",
              "          google.colab.kernel.accessAllowed ? 'block' : 'none';\n",
              "\n",
              "        async function convertToInteractive(key) {\n",
              "          const element = document.querySelector('#df-32d8ef78-ab1b-41a2-9a45-5abecd184d0e');\n",
              "          const dataTable =\n",
              "            await google.colab.kernel.invokeFunction('convertToInteractive',\n",
              "                                                     [key], {});\n",
              "          if (!dataTable) return;\n",
              "\n",
              "          const docLinkHtml = 'Like what you see? Visit the ' +\n",
              "            '<a target=\"_blank\" href=https://colab.research.google.com/notebooks/data_table.ipynb>data table notebook</a>'\n",
              "            + ' to learn more about interactive tables.';\n",
              "          element.innerHTML = '';\n",
              "          dataTable['output_type'] = 'display_data';\n",
              "          await google.colab.output.renderOutput(dataTable, element);\n",
              "          const docLink = document.createElement('div');\n",
              "          docLink.innerHTML = docLinkHtml;\n",
              "          element.appendChild(docLink);\n",
              "        }\n",
              "      </script>\n",
              "    </div>\n",
              "  </div>\n",
              "  "
            ]
          },
          "metadata": {},
          "execution_count": 24
        }
      ]
    },
    {
      "cell_type": "markdown",
      "source": [
        "**CoxPHSurvivalAnalysis**"
      ],
      "metadata": {
        "id": "DEkYwdWKhjNT"
      }
    },
    {
      "cell_type": "code",
      "source": [
        "from sklearn import set_config\n",
        "from sksurv.linear_model import CoxPHSurvivalAnalysis\n",
        "\n",
        "set_config(display=\"text\")  # displays text representation of estimators\n",
        "\n",
        "surv_features2, surv_labels2_df = get_x_y(scooter_data2, ['need_repair','tte'],survival = False)\n",
        "surv_labels2 = Surv.from_dataframe('need_repair','tte',surv_labels2_df)\n",
        "\n",
        "estimator = CoxPHSurvivalAnalysis()\n",
        "estimator.fit(surv_features2, surv_labels2)"
      ],
      "metadata": {
        "colab": {
          "base_uri": "https://localhost:8080/"
        },
        "id": "CCtutbhrg_zY",
        "outputId": "48ceb17b-5743-4aa7-a739-9b2b53408d46"
      },
      "execution_count": null,
      "outputs": [
        {
          "output_type": "execute_result",
          "data": {
            "text/plain": [
              "CoxPHSurvivalAnalysis()"
            ]
          },
          "metadata": {},
          "execution_count": 25
        }
      ]
    },
    {
      "cell_type": "code",
      "source": [
        "pd.Series(estimator.coef_, index=surv_features2.columns)"
      ],
      "metadata": {
        "colab": {
          "base_uri": "https://localhost:8080/"
        },
        "id": "1VlSNqw7huxh",
        "outputId": "83ef137c-9576-48ce-a14f-b1239465621c"
      },
      "execution_count": null,
      "outputs": [
        {
          "output_type": "execute_result",
          "data": {
            "text/plain": [
              "usage_length_days    0.048584\n",
              "avg_complains        0.076235\n",
              "ride_miles           0.000576\n",
              "manufactor_B         0.307014\n",
              "manufactor_C         0.660345\n",
              "dtype: float64"
            ]
          },
          "metadata": {},
          "execution_count": 26
        }
      ]
    },
    {
      "cell_type": "code",
      "source": [
        "from sksurv.metrics import concordance_index_censored\n",
        "\n",
        "prediction = estimator.predict(surv_features2)\n",
        "result = concordance_index_censored(surv_labels2[\"need_repair\"], surv_labels2[\"tte\"], prediction)\n",
        "result[0]"
      ],
      "metadata": {
        "colab": {
          "base_uri": "https://localhost:8080/"
        },
        "id": "8VKtX7PjhxOh",
        "outputId": "ab78dabd-4f9f-44eb-9b10-e77b2edb69cf"
      },
      "execution_count": null,
      "outputs": [
        {
          "output_type": "execute_result",
          "data": {
            "text/plain": [
              "0.7758132154595943"
            ]
          },
          "metadata": {},
          "execution_count": 27
        }
      ]
    },
    {
      "cell_type": "markdown",
      "source": [
        "**Random survival forests analysis.**"
      ],
      "metadata": {
        "id": "1Y2B5Oujhmug"
      }
    },
    {
      "cell_type": "code",
      "source": [
        "# Building training and testing sets\n",
        "from sklearn import set_config\n",
        "from sklearn.model_selection import train_test_split\n",
        "from sklearn.preprocessing import OrdinalEncoder\n",
        "\n",
        "\n",
        "from sksurv.preprocessing import OneHotEncoder\n",
        "from sksurv.ensemble import RandomSurvivalForest\n",
        "\n",
        "set_config(display=\"text\")  # displays text representation of estimators\n",
        "\n",
        "surv_features2, surv_labels2_df = get_x_y(scooter_data2, ['need_repair','tte'],survival = False)\n",
        "surv_labels2 = Surv.from_dataframe('need_repair','tte',surv_labels2_df)\n",
        "print('\\n======== features for survival analysis ========\\n', surv_features2[:10])\n",
        "print('\\n======== labels for survival analysis ========\\n',surv_labels2[:10])\n",
        "X = surv_features2\n",
        "y = surv_labels2"
      ],
      "metadata": {
        "id": "k7UClublnkdQ",
        "colab": {
          "base_uri": "https://localhost:8080/"
        },
        "outputId": "660f429f-4239-4c48-8ee7-4d4b44d00164"
      },
      "execution_count": null,
      "outputs": [
        {
          "output_type": "stream",
          "name": "stdout",
          "text": [
            "\n",
            "======== features for survival analysis ========\n",
            "    usage_length_days  avg_complains  ride_miles  manufactor_B  manufactor_C\n",
            "0          58.766838           21.3         6.2             0             1\n",
            "1          56.447815            4.6        88.0             0             1\n",
            "2          70.074472            1.8        88.4             1             0\n",
            "3          54.742087            5.3       131.8             0             1\n",
            "4          66.260541            0.7        60.0             0             0\n",
            "5          55.536086            1.4        54.0             0             0\n",
            "6          53.058263            5.4       120.9             1             0\n",
            "7          42.509035           14.8       221.7             0             1\n",
            "8          70.561822           12.6       147.3             0             1\n",
            "9          53.715365            9.6       121.0             0             1\n",
            "\n",
            "======== labels for survival analysis ========\n",
            " [( True,  57.) (False, 736.) ( True, 145.) ( True, 275.) ( True, 357.)\n",
            " (False, 357.) ( True, 352.) ( True, 342.) ( True,   8.) ( True, 536.)]\n"
          ]
        }
      ]
    },
    {
      "cell_type": "code",
      "source": [
        "random_state = 20\n",
        "\n",
        "X_train, X_test, y_train, y_test = train_test_split(\n",
        "   X, y, test_size=0.25, random_state=random_state)"
      ],
      "metadata": {
        "id": "Xwm6OY02oFaT"
      },
      "execution_count": null,
      "outputs": []
    },
    {
      "cell_type": "code",
      "source": [
        "rsf = RandomSurvivalForest(n_estimators=1000,\n",
        "                           min_samples_split=5,\n",
        "                           min_samples_leaf=3,\n",
        "                           n_jobs=-1,\n",
        "                           random_state=random_state)\n",
        "\n",
        "rsf.fit(X_train, y_train)"
      ],
      "metadata": {
        "colab": {
          "base_uri": "https://localhost:8080/"
        },
        "id": "lY_cyiZ9od0N",
        "outputId": "2b47cefb-883b-4272-b421-ee6230b59480"
      },
      "execution_count": null,
      "outputs": [
        {
          "output_type": "execute_result",
          "data": {
            "text/plain": [
              "RandomSurvivalForest(min_samples_split=5, n_estimators=1000, n_jobs=-1,\n",
              "                     random_state=20)"
            ]
          },
          "metadata": {},
          "execution_count": 30
        }
      ]
    },
    {
      "cell_type": "code",
      "source": [
        "rsf.score(X_test, y_test)"
      ],
      "metadata": {
        "colab": {
          "base_uri": "https://localhost:8080/"
        },
        "id": "nIrVONEQovVf",
        "outputId": "24e38ddd-9405-4659-f0cf-4782c7cd17b3"
      },
      "execution_count": null,
      "outputs": [
        {
          "output_type": "execute_result",
          "data": {
            "text/plain": [
              "0.8144391408114559"
            ]
          },
          "metadata": {},
          "execution_count": 31
        }
      ]
    },
    {
      "cell_type": "markdown",
      "source": [
        "Comparing concordance"
      ],
      "metadata": {
        "id": "rCdSa_wJCW2x"
      }
    },
    {
      "cell_type": "code",
      "source": [
        "from sklearn.inspection import permutation_importance\n",
        "\n",
        "result = permutation_importance(\n",
        "    rsf, X_test, y_test, n_repeats=15, random_state=random_state\n",
        ")"
      ],
      "metadata": {
        "id": "Bxu071R8G2Sl"
      },
      "execution_count": null,
      "outputs": []
    },
    {
      "cell_type": "code",
      "source": [
        "pd.DataFrame(\n",
        "    {k: result[k] for k in (\"importances_mean\", \"importances_std\",)},\n",
        "    index=X_test.columns\n",
        ").sort_values(by=\"importances_mean\", ascending=False)"
      ],
      "metadata": {
        "colab": {
          "base_uri": "https://localhost:8080/",
          "height": 206
        },
        "id": "Er4h-GnbG8Nx",
        "outputId": "6443efb6-f421-4e38-fd75-ba2167cb366c"
      },
      "execution_count": null,
      "outputs": [
        {
          "output_type": "execute_result",
          "data": {
            "text/plain": [
              "                   importances_mean  importances_std\n",
              "avg_complains              0.200716         0.038644\n",
              "usage_length_days          0.040811         0.012081\n",
              "manufactor_B               0.010740         0.004117\n",
              "manufactor_C               0.006603         0.006734\n",
              "ride_miles                 0.006444         0.008548"
            ],
            "text/html": [
              "\n",
              "  <div id=\"df-4553d3ad-85f6-40e7-b18c-936d59b91677\">\n",
              "    <div class=\"colab-df-container\">\n",
              "      <div>\n",
              "<style scoped>\n",
              "    .dataframe tbody tr th:only-of-type {\n",
              "        vertical-align: middle;\n",
              "    }\n",
              "\n",
              "    .dataframe tbody tr th {\n",
              "        vertical-align: top;\n",
              "    }\n",
              "\n",
              "    .dataframe thead th {\n",
              "        text-align: right;\n",
              "    }\n",
              "</style>\n",
              "<table border=\"1\" class=\"dataframe\">\n",
              "  <thead>\n",
              "    <tr style=\"text-align: right;\">\n",
              "      <th></th>\n",
              "      <th>importances_mean</th>\n",
              "      <th>importances_std</th>\n",
              "    </tr>\n",
              "  </thead>\n",
              "  <tbody>\n",
              "    <tr>\n",
              "      <th>avg_complains</th>\n",
              "      <td>0.200716</td>\n",
              "      <td>0.038644</td>\n",
              "    </tr>\n",
              "    <tr>\n",
              "      <th>usage_length_days</th>\n",
              "      <td>0.040811</td>\n",
              "      <td>0.012081</td>\n",
              "    </tr>\n",
              "    <tr>\n",
              "      <th>manufactor_B</th>\n",
              "      <td>0.010740</td>\n",
              "      <td>0.004117</td>\n",
              "    </tr>\n",
              "    <tr>\n",
              "      <th>manufactor_C</th>\n",
              "      <td>0.006603</td>\n",
              "      <td>0.006734</td>\n",
              "    </tr>\n",
              "    <tr>\n",
              "      <th>ride_miles</th>\n",
              "      <td>0.006444</td>\n",
              "      <td>0.008548</td>\n",
              "    </tr>\n",
              "  </tbody>\n",
              "</table>\n",
              "</div>\n",
              "      <button class=\"colab-df-convert\" onclick=\"convertToInteractive('df-4553d3ad-85f6-40e7-b18c-936d59b91677')\"\n",
              "              title=\"Convert this dataframe to an interactive table.\"\n",
              "              style=\"display:none;\">\n",
              "        \n",
              "  <svg xmlns=\"http://www.w3.org/2000/svg\" height=\"24px\"viewBox=\"0 0 24 24\"\n",
              "       width=\"24px\">\n",
              "    <path d=\"M0 0h24v24H0V0z\" fill=\"none\"/>\n",
              "    <path d=\"M18.56 5.44l.94 2.06.94-2.06 2.06-.94-2.06-.94-.94-2.06-.94 2.06-2.06.94zm-11 1L8.5 8.5l.94-2.06 2.06-.94-2.06-.94L8.5 2.5l-.94 2.06-2.06.94zm10 10l.94 2.06.94-2.06 2.06-.94-2.06-.94-.94-2.06-.94 2.06-2.06.94z\"/><path d=\"M17.41 7.96l-1.37-1.37c-.4-.4-.92-.59-1.43-.59-.52 0-1.04.2-1.43.59L10.3 9.45l-7.72 7.72c-.78.78-.78 2.05 0 2.83L4 21.41c.39.39.9.59 1.41.59.51 0 1.02-.2 1.41-.59l7.78-7.78 2.81-2.81c.8-.78.8-2.07 0-2.86zM5.41 20L4 18.59l7.72-7.72 1.47 1.35L5.41 20z\"/>\n",
              "  </svg>\n",
              "      </button>\n",
              "      \n",
              "  <style>\n",
              "    .colab-df-container {\n",
              "      display:flex;\n",
              "      flex-wrap:wrap;\n",
              "      gap: 12px;\n",
              "    }\n",
              "\n",
              "    .colab-df-convert {\n",
              "      background-color: #E8F0FE;\n",
              "      border: none;\n",
              "      border-radius: 50%;\n",
              "      cursor: pointer;\n",
              "      display: none;\n",
              "      fill: #1967D2;\n",
              "      height: 32px;\n",
              "      padding: 0 0 0 0;\n",
              "      width: 32px;\n",
              "    }\n",
              "\n",
              "    .colab-df-convert:hover {\n",
              "      background-color: #E2EBFA;\n",
              "      box-shadow: 0px 1px 2px rgba(60, 64, 67, 0.3), 0px 1px 3px 1px rgba(60, 64, 67, 0.15);\n",
              "      fill: #174EA6;\n",
              "    }\n",
              "\n",
              "    [theme=dark] .colab-df-convert {\n",
              "      background-color: #3B4455;\n",
              "      fill: #D2E3FC;\n",
              "    }\n",
              "\n",
              "    [theme=dark] .colab-df-convert:hover {\n",
              "      background-color: #434B5C;\n",
              "      box-shadow: 0px 1px 3px 1px rgba(0, 0, 0, 0.15);\n",
              "      filter: drop-shadow(0px 1px 2px rgba(0, 0, 0, 0.3));\n",
              "      fill: #FFFFFF;\n",
              "    }\n",
              "  </style>\n",
              "\n",
              "      <script>\n",
              "        const buttonEl =\n",
              "          document.querySelector('#df-4553d3ad-85f6-40e7-b18c-936d59b91677 button.colab-df-convert');\n",
              "        buttonEl.style.display =\n",
              "          google.colab.kernel.accessAllowed ? 'block' : 'none';\n",
              "\n",
              "        async function convertToInteractive(key) {\n",
              "          const element = document.querySelector('#df-4553d3ad-85f6-40e7-b18c-936d59b91677');\n",
              "          const dataTable =\n",
              "            await google.colab.kernel.invokeFunction('convertToInteractive',\n",
              "                                                     [key], {});\n",
              "          if (!dataTable) return;\n",
              "\n",
              "          const docLinkHtml = 'Like what you see? Visit the ' +\n",
              "            '<a target=\"_blank\" href=https://colab.research.google.com/notebooks/data_table.ipynb>data table notebook</a>'\n",
              "            + ' to learn more about interactive tables.';\n",
              "          element.innerHTML = '';\n",
              "          dataTable['output_type'] = 'display_data';\n",
              "          await google.colab.output.renderOutput(dataTable, element);\n",
              "          const docLink = document.createElement('div');\n",
              "          docLink.innerHTML = docLinkHtml;\n",
              "          element.appendChild(docLink);\n",
              "        }\n",
              "      </script>\n",
              "    </div>\n",
              "  </div>\n",
              "  "
            ]
          },
          "metadata": {},
          "execution_count": 33
        }
      ]
    },
    {
      "cell_type": "markdown",
      "source": [
        "The result shows that average complaints number is the most important feature for this model. The\n",
        "‘importances_mean’ indicates that, for example, when relationship between the average complaints in the\n",
        "last 3 months and the target results are removed by random shuffling, the model score on test data drops\n",
        "on average by 0.2 points, with the standard deviation of 0.039. Meanwhile, the importance mean for other\n",
        "features are significantly lower."
      ],
      "metadata": {
        "id": "VSpYuZuoARr3"
      }
    },
    {
      "cell_type": "markdown",
      "source": [
        "# **Test the model with ten scooters**"
      ],
      "metadata": {
        "id": "zDR_1nsXPuQN"
      }
    },
    {
      "cell_type": "markdown",
      "source": [
        "Now we use our trained model for prediction to predict the survival rate for our 10 scooters in inventory.\n",
        "The predicted risk scores show that scooters 1, 3 and 8 has lower risks of getting broken than other\n",
        "scooters. From the plot of the survival probability of all scooters, we can visualize the survival rate or the\n",
        "chance that a scooter will be broken at a time point.\n",
        "\n",
        "For example, for scooter 4, during the first 200 days, its survival probability drops dramatically, and it\n",
        "continues to drop gradually afterwards. We can predict that the scooter 4 is more likely to be broken\n",
        "within the first 200 days. \n"
      ],
      "metadata": {
        "id": "cmYf3c1tAeYP"
      }
    },
    {
      "cell_type": "code",
      "source": [
        "X_test1 = pd.read_csv('ten_scooters.csv')\n",
        "X_test2 = X_test1.drop('id', axis = 1).copy()\n",
        "X_test_10 =  X_test2.drop('manufactor_A', axis = 1).copy()"
      ],
      "metadata": {
        "id": "cHvcAkCmRXFI"
      },
      "execution_count": null,
      "outputs": []
    },
    {
      "cell_type": "code",
      "source": [
        "X_test_10"
      ],
      "metadata": {
        "colab": {
          "base_uri": "https://localhost:8080/",
          "height": 363
        },
        "id": "2SxCCimUSbp4",
        "outputId": "f6a3115a-5cf0-443c-c8cc-4ef4d976c251"
      },
      "execution_count": null,
      "outputs": [
        {
          "output_type": "execute_result",
          "data": {
            "text/plain": [
              "   usage_length_days  avg_complains  ride_miles  manufactor_B  manufactor_C\n",
              "0          56.447815            4.6        88.0             0             1\n",
              "1          55.536086            1.4        54.0             0             0\n",
              "2          53.058263            5.4       120.9             1             0\n",
              "3          45.690505            1.2        72.0             0             0\n",
              "4          64.647903           11.4       114.0             0             1\n",
              "5          64.190669            7.8        73.0             0             1\n",
              "6          52.026065           16.2       241.0             0             1\n",
              "7          60.538276           11.4       246.0             1             0\n",
              "8          45.211368            0.9        89.0             0             0\n",
              "9          60.661483            2.1        98.0             0             1"
            ],
            "text/html": [
              "\n",
              "  <div id=\"df-984079ba-8f2d-42d1-a919-2abadf9a8189\">\n",
              "    <div class=\"colab-df-container\">\n",
              "      <div>\n",
              "<style scoped>\n",
              "    .dataframe tbody tr th:only-of-type {\n",
              "        vertical-align: middle;\n",
              "    }\n",
              "\n",
              "    .dataframe tbody tr th {\n",
              "        vertical-align: top;\n",
              "    }\n",
              "\n",
              "    .dataframe thead th {\n",
              "        text-align: right;\n",
              "    }\n",
              "</style>\n",
              "<table border=\"1\" class=\"dataframe\">\n",
              "  <thead>\n",
              "    <tr style=\"text-align: right;\">\n",
              "      <th></th>\n",
              "      <th>usage_length_days</th>\n",
              "      <th>avg_complains</th>\n",
              "      <th>ride_miles</th>\n",
              "      <th>manufactor_B</th>\n",
              "      <th>manufactor_C</th>\n",
              "    </tr>\n",
              "  </thead>\n",
              "  <tbody>\n",
              "    <tr>\n",
              "      <th>0</th>\n",
              "      <td>56.447815</td>\n",
              "      <td>4.6</td>\n",
              "      <td>88.0</td>\n",
              "      <td>0</td>\n",
              "      <td>1</td>\n",
              "    </tr>\n",
              "    <tr>\n",
              "      <th>1</th>\n",
              "      <td>55.536086</td>\n",
              "      <td>1.4</td>\n",
              "      <td>54.0</td>\n",
              "      <td>0</td>\n",
              "      <td>0</td>\n",
              "    </tr>\n",
              "    <tr>\n",
              "      <th>2</th>\n",
              "      <td>53.058263</td>\n",
              "      <td>5.4</td>\n",
              "      <td>120.9</td>\n",
              "      <td>1</td>\n",
              "      <td>0</td>\n",
              "    </tr>\n",
              "    <tr>\n",
              "      <th>3</th>\n",
              "      <td>45.690505</td>\n",
              "      <td>1.2</td>\n",
              "      <td>72.0</td>\n",
              "      <td>0</td>\n",
              "      <td>0</td>\n",
              "    </tr>\n",
              "    <tr>\n",
              "      <th>4</th>\n",
              "      <td>64.647903</td>\n",
              "      <td>11.4</td>\n",
              "      <td>114.0</td>\n",
              "      <td>0</td>\n",
              "      <td>1</td>\n",
              "    </tr>\n",
              "    <tr>\n",
              "      <th>5</th>\n",
              "      <td>64.190669</td>\n",
              "      <td>7.8</td>\n",
              "      <td>73.0</td>\n",
              "      <td>0</td>\n",
              "      <td>1</td>\n",
              "    </tr>\n",
              "    <tr>\n",
              "      <th>6</th>\n",
              "      <td>52.026065</td>\n",
              "      <td>16.2</td>\n",
              "      <td>241.0</td>\n",
              "      <td>0</td>\n",
              "      <td>1</td>\n",
              "    </tr>\n",
              "    <tr>\n",
              "      <th>7</th>\n",
              "      <td>60.538276</td>\n",
              "      <td>11.4</td>\n",
              "      <td>246.0</td>\n",
              "      <td>1</td>\n",
              "      <td>0</td>\n",
              "    </tr>\n",
              "    <tr>\n",
              "      <th>8</th>\n",
              "      <td>45.211368</td>\n",
              "      <td>0.9</td>\n",
              "      <td>89.0</td>\n",
              "      <td>0</td>\n",
              "      <td>0</td>\n",
              "    </tr>\n",
              "    <tr>\n",
              "      <th>9</th>\n",
              "      <td>60.661483</td>\n",
              "      <td>2.1</td>\n",
              "      <td>98.0</td>\n",
              "      <td>0</td>\n",
              "      <td>1</td>\n",
              "    </tr>\n",
              "  </tbody>\n",
              "</table>\n",
              "</div>\n",
              "      <button class=\"colab-df-convert\" onclick=\"convertToInteractive('df-984079ba-8f2d-42d1-a919-2abadf9a8189')\"\n",
              "              title=\"Convert this dataframe to an interactive table.\"\n",
              "              style=\"display:none;\">\n",
              "        \n",
              "  <svg xmlns=\"http://www.w3.org/2000/svg\" height=\"24px\"viewBox=\"0 0 24 24\"\n",
              "       width=\"24px\">\n",
              "    <path d=\"M0 0h24v24H0V0z\" fill=\"none\"/>\n",
              "    <path d=\"M18.56 5.44l.94 2.06.94-2.06 2.06-.94-2.06-.94-.94-2.06-.94 2.06-2.06.94zm-11 1L8.5 8.5l.94-2.06 2.06-.94-2.06-.94L8.5 2.5l-.94 2.06-2.06.94zm10 10l.94 2.06.94-2.06 2.06-.94-2.06-.94-.94-2.06-.94 2.06-2.06.94z\"/><path d=\"M17.41 7.96l-1.37-1.37c-.4-.4-.92-.59-1.43-.59-.52 0-1.04.2-1.43.59L10.3 9.45l-7.72 7.72c-.78.78-.78 2.05 0 2.83L4 21.41c.39.39.9.59 1.41.59.51 0 1.02-.2 1.41-.59l7.78-7.78 2.81-2.81c.8-.78.8-2.07 0-2.86zM5.41 20L4 18.59l7.72-7.72 1.47 1.35L5.41 20z\"/>\n",
              "  </svg>\n",
              "      </button>\n",
              "      \n",
              "  <style>\n",
              "    .colab-df-container {\n",
              "      display:flex;\n",
              "      flex-wrap:wrap;\n",
              "      gap: 12px;\n",
              "    }\n",
              "\n",
              "    .colab-df-convert {\n",
              "      background-color: #E8F0FE;\n",
              "      border: none;\n",
              "      border-radius: 50%;\n",
              "      cursor: pointer;\n",
              "      display: none;\n",
              "      fill: #1967D2;\n",
              "      height: 32px;\n",
              "      padding: 0 0 0 0;\n",
              "      width: 32px;\n",
              "    }\n",
              "\n",
              "    .colab-df-convert:hover {\n",
              "      background-color: #E2EBFA;\n",
              "      box-shadow: 0px 1px 2px rgba(60, 64, 67, 0.3), 0px 1px 3px 1px rgba(60, 64, 67, 0.15);\n",
              "      fill: #174EA6;\n",
              "    }\n",
              "\n",
              "    [theme=dark] .colab-df-convert {\n",
              "      background-color: #3B4455;\n",
              "      fill: #D2E3FC;\n",
              "    }\n",
              "\n",
              "    [theme=dark] .colab-df-convert:hover {\n",
              "      background-color: #434B5C;\n",
              "      box-shadow: 0px 1px 3px 1px rgba(0, 0, 0, 0.15);\n",
              "      filter: drop-shadow(0px 1px 2px rgba(0, 0, 0, 0.3));\n",
              "      fill: #FFFFFF;\n",
              "    }\n",
              "  </style>\n",
              "\n",
              "      <script>\n",
              "        const buttonEl =\n",
              "          document.querySelector('#df-984079ba-8f2d-42d1-a919-2abadf9a8189 button.colab-df-convert');\n",
              "        buttonEl.style.display =\n",
              "          google.colab.kernel.accessAllowed ? 'block' : 'none';\n",
              "\n",
              "        async function convertToInteractive(key) {\n",
              "          const element = document.querySelector('#df-984079ba-8f2d-42d1-a919-2abadf9a8189');\n",
              "          const dataTable =\n",
              "            await google.colab.kernel.invokeFunction('convertToInteractive',\n",
              "                                                     [key], {});\n",
              "          if (!dataTable) return;\n",
              "\n",
              "          const docLinkHtml = 'Like what you see? Visit the ' +\n",
              "            '<a target=\"_blank\" href=https://colab.research.google.com/notebooks/data_table.ipynb>data table notebook</a>'\n",
              "            + ' to learn more about interactive tables.';\n",
              "          element.innerHTML = '';\n",
              "          dataTable['output_type'] = 'display_data';\n",
              "          await google.colab.output.renderOutput(dataTable, element);\n",
              "          const docLink = document.createElement('div');\n",
              "          docLink.innerHTML = docLinkHtml;\n",
              "          element.appendChild(docLink);\n",
              "        }\n",
              "      </script>\n",
              "    </div>\n",
              "  </div>\n",
              "  "
            ]
          },
          "metadata": {},
          "execution_count": 35
        }
      ]
    },
    {
      "cell_type": "code",
      "source": [
        "pd.Series(rsf.predict(X_test_10))\n",
        "print('Predict score')"
      ],
      "metadata": {
        "colab": {
          "base_uri": "https://localhost:8080/"
        },
        "id": "8UozKx7ERXg0",
        "outputId": "05fd9bde-5e64-4416-c30d-f3d0904de99c"
      },
      "execution_count": null,
      "outputs": [
        {
          "output_type": "stream",
          "name": "stdout",
          "text": [
            "Predict score\n"
          ]
        }
      ]
    },
    {
      "cell_type": "code",
      "source": [
        "surv = rsf.predict_survival_function(X_test_10, return_array=True)\n",
        "\n",
        "for i, s in enumerate(surv):\n",
        "    plt.step(rsf.event_times_, s, where=\"post\", label=str(i))\n",
        "plt.ylabel(\"Survival probability\")\n",
        "plt.xlabel(\"Time in days\")\n",
        "plt.legend()\n",
        "plt.grid(True)"
      ],
      "metadata": {
        "colab": {
          "base_uri": "https://localhost:8080/",
          "height": 279
        },
        "id": "D8I0B-iZRX0O",
        "outputId": "4476de4a-2980-4c12-e69c-53182326a061"
      },
      "execution_count": null,
      "outputs": [
        {
          "output_type": "display_data",
          "data": {
            "text/plain": [
              "<Figure size 432x288 with 1 Axes>"
            ],
            "image/png": "[encoded data removed]"
          },
          "metadata": {
            "needs_background": "light"
          }
        }
      ]
    },
    {
      "cell_type": "code",
      "source": [
        "surv = rsf.predict_cumulative_hazard_function(X_test_10, return_array=True)\n",
        "\n",
        "for i, s in enumerate(surv):\n",
        "    plt.step(rsf.event_times_, s, where=\"post\", label=str(i))\n",
        "plt.ylabel(\"Cumulative hazard\")\n",
        "plt.xlabel(\"Time in days\")\n",
        "plt.legend()\n",
        "plt.grid(True)"
      ],
      "metadata": {
        "colab": {
          "base_uri": "https://localhost:8080/",
          "height": 279
        },
        "id": "mh8DlQ9dRq-z",
        "outputId": "08534292-515c-4d1b-c1e4-70b8a4a2779d"
      },
      "execution_count": null,
      "outputs": [
        {
          "output_type": "display_data",
          "data": {
            "text/plain": [
              "<Figure size 432x288 with 1 Axes>"
            ],
            "image/png": "[encoded data removed]"
          },
          "metadata": {
            "needs_background": "light"
          }
        }
      ]
    },
    {
      "cell_type": "code",
      "source": [
        "from sklearn.inspection import permutation_importance\n",
        "\n",
        "result = permutation_importance(\n",
        "    rsf, X_test, y_test, n_repeats=15, random_state=random_state\n",
        ")"
      ],
      "metadata": {
        "id": "LPgX80p9R4ds"
      },
      "execution_count": null,
      "outputs": []
    },
    {
      "cell_type": "code",
      "source": [
        "pd.DataFrame(\n",
        "    {k: result[k] for k in (\"importances_mean\", \"importances_std\",)},\n",
        "    index=X_test.columns\n",
        ").sort_values(by=\"importances_mean\", ascending=False)"
      ],
      "metadata": {
        "colab": {
          "base_uri": "https://localhost:8080/",
          "height": 206
        },
        "id": "nEJeSzXaR8H4",
        "outputId": "af4df1c1-6700-429a-f66c-1a74188d7613"
      },
      "execution_count": null,
      "outputs": [
        {
          "output_type": "execute_result",
          "data": {
            "text/plain": [
              "                   importances_mean  importances_std\n",
              "avg_complains              0.200716         0.038644\n",
              "usage_length_days          0.040811         0.012081\n",
              "manufactor_B               0.010740         0.004117\n",
              "manufactor_C               0.006603         0.006734\n",
              "ride_miles                 0.006444         0.008548"
            ],
            "text/html": [
              "\n",
              "  <div id=\"df-33d98fc5-97a8-4157-bcc2-49f9f8c3e816\">\n",
              "    <div class=\"colab-df-container\">\n",
              "      <div>\n",
              "<style scoped>\n",
              "    .dataframe tbody tr th:only-of-type {\n",
              "        vertical-align: middle;\n",
              "    }\n",
              "\n",
              "    .dataframe tbody tr th {\n",
              "        vertical-align: top;\n",
              "    }\n",
              "\n",
              "    .dataframe thead th {\n",
              "        text-align: right;\n",
              "    }\n",
              "</style>\n",
              "<table border=\"1\" class=\"dataframe\">\n",
              "  <thead>\n",
              "    <tr style=\"text-align: right;\">\n",
              "      <th></th>\n",
              "      <th>importances_mean</th>\n",
              "      <th>importances_std</th>\n",
              "    </tr>\n",
              "  </thead>\n",
              "  <tbody>\n",
              "    <tr>\n",
              "      <th>avg_complains</th>\n",
              "      <td>0.200716</td>\n",
              "      <td>0.038644</td>\n",
              "    </tr>\n",
              "    <tr>\n",
              "      <th>usage_length_days</th>\n",
              "      <td>0.040811</td>\n",
              "      <td>0.012081</td>\n",
              "    </tr>\n",
              "    <tr>\n",
              "      <th>manufactor_B</th>\n",
              "      <td>0.010740</td>\n",
              "      <td>0.004117</td>\n",
              "    </tr>\n",
              "    <tr>\n",
              "      <th>manufactor_C</th>\n",
              "      <td>0.006603</td>\n",
              "      <td>0.006734</td>\n",
              "    </tr>\n",
              "    <tr>\n",
              "      <th>ride_miles</th>\n",
              "      <td>0.006444</td>\n",
              "      <td>0.008548</td>\n",
              "    </tr>\n",
              "  </tbody>\n",
              "</table>\n",
              "</div>\n",
              "      <button class=\"colab-df-convert\" onclick=\"convertToInteractive('df-33d98fc5-97a8-4157-bcc2-49f9f8c3e816')\"\n",
              "              title=\"Convert this dataframe to an interactive table.\"\n",
              "              style=\"display:none;\">\n",
              "        \n",
              "  <svg xmlns=\"http://www.w3.org/2000/svg\" height=\"24px\"viewBox=\"0 0 24 24\"\n",
              "       width=\"24px\">\n",
              "    <path d=\"M0 0h24v24H0V0z\" fill=\"none\"/>\n",
              "    <path d=\"M18.56 5.44l.94 2.06.94-2.06 2.06-.94-2.06-.94-.94-2.06-.94 2.06-2.06.94zm-11 1L8.5 8.5l.94-2.06 2.06-.94-2.06-.94L8.5 2.5l-.94 2.06-2.06.94zm10 10l.94 2.06.94-2.06 2.06-.94-2.06-.94-.94-2.06-.94 2.06-2.06.94z\"/><path d=\"M17.41 7.96l-1.37-1.37c-.4-.4-.92-.59-1.43-.59-.52 0-1.04.2-1.43.59L10.3 9.45l-7.72 7.72c-.78.78-.78 2.05 0 2.83L4 21.41c.39.39.9.59 1.41.59.51 0 1.02-.2 1.41-.59l7.78-7.78 2.81-2.81c.8-.78.8-2.07 0-2.86zM5.41 20L4 18.59l7.72-7.72 1.47 1.35L5.41 20z\"/>\n",
              "  </svg>\n",
              "      </button>\n",
              "      \n",
              "  <style>\n",
              "    .colab-df-container {\n",
              "      display:flex;\n",
              "      flex-wrap:wrap;\n",
              "      gap: 12px;\n",
              "    }\n",
              "\n",
              "    .colab-df-convert {\n",
              "      background-color: #E8F0FE;\n",
              "      border: none;\n",
              "      border-radius: 50%;\n",
              "      cursor: pointer;\n",
              "      display: none;\n",
              "      fill: #1967D2;\n",
              "      height: 32px;\n",
              "      padding: 0 0 0 0;\n",
              "      width: 32px;\n",
              "    }\n",
              "\n",
              "    .colab-df-convert:hover {\n",
              "      background-color: #E2EBFA;\n",
              "      box-shadow: 0px 1px 2px rgba(60, 64, 67, 0.3), 0px 1px 3px 1px rgba(60, 64, 67, 0.15);\n",
              "      fill: #174EA6;\n",
              "    }\n",
              "\n",
              "    [theme=dark] .colab-df-convert {\n",
              "      background-color: #3B4455;\n",
              "      fill: #D2E3FC;\n",
              "    }\n",
              "\n",
              "    [theme=dark] .colab-df-convert:hover {\n",
              "      background-color: #434B5C;\n",
              "      box-shadow: 0px 1px 3px 1px rgba(0, 0, 0, 0.15);\n",
              "      filter: drop-shadow(0px 1px 2px rgba(0, 0, 0, 0.3));\n",
              "      fill: #FFFFFF;\n",
              "    }\n",
              "  </style>\n",
              "\n",
              "      <script>\n",
              "        const buttonEl =\n",
              "          document.querySelector('#df-33d98fc5-97a8-4157-bcc2-49f9f8c3e816 button.colab-df-convert');\n",
              "        buttonEl.style.display =\n",
              "          google.colab.kernel.accessAllowed ? 'block' : 'none';\n",
              "\n",
              "        async function convertToInteractive(key) {\n",
              "          const element = document.querySelector('#df-33d98fc5-97a8-4157-bcc2-49f9f8c3e816');\n",
              "          const dataTable =\n",
              "            await google.colab.kernel.invokeFunction('convertToInteractive',\n",
              "                                                     [key], {});\n",
              "          if (!dataTable) return;\n",
              "\n",
              "          const docLinkHtml = 'Like what you see? Visit the ' +\n",
              "            '<a target=\"_blank\" href=https://colab.research.google.com/notebooks/data_table.ipynb>data table notebook</a>'\n",
              "            + ' to learn more about interactive tables.';\n",
              "          element.innerHTML = '';\n",
              "          dataTable['output_type'] = 'display_data';\n",
              "          await google.colab.output.renderOutput(dataTable, element);\n",
              "          const docLink = document.createElement('div');\n",
              "          docLink.innerHTML = docLinkHtml;\n",
              "          element.appendChild(docLink);\n",
              "        }\n",
              "      </script>\n",
              "    </div>\n",
              "  </div>\n",
              "  "
            ]
          },
          "metadata": {},
          "execution_count": 40
        }
      ]
    },
    {
      "cell_type": "markdown",
      "source": [
        "# **Summary and Conclusion**\n",
        "\n",
        "In summary, Kaplan-Meier Estimator shows us that the chances that the scooters get broken decrease\n",
        "gradually with time. After log rank test confirms that there is relationship between feature manufactor and\n",
        "the hazard rate, we can recommend that the company buy future scooters from manufactor A.\n",
        "\n",
        "Both CoxPH and Survival Forest analysis models gave us high concordance index. We used the later\n",
        "model to predict the survival rate for our 10 scooters. With that prediction, the company can plan the\n",
        "repair schedule and maintenance plan accordingly. "
      ],
      "metadata": {
        "id": "bGQZNPcPAlaM"
      }
    }
  ],
  "metadata": {
    "colab": {
      "provenance": [],
      "include_colab_link": true
    },
    "kernelspec": {
      "display_name": "Python 3",
      "language": "python",
      "name": "python3"
    },
    "language_info": {
      "codemirror_mode": {
        "name": "ipython",
        "version": 3
      },
      "file_extension": ".py",
      "mimetype": "text/x-python",
      "name": "python",
      "nbconvert_exporter": "python",
      "pygments_lexer": "ipython3",
      "version": "3.8.5"
    }
  },
  "nbformat": 4,
  "nbformat_minor": 0
}